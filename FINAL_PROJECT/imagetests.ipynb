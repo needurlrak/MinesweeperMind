{
 "cells": [
  {
   "cell_type": "code",
   "execution_count": 1,
   "metadata": {
    "collapsed": false
   },
   "outputs": [],
   "source": [
    "from skimage import feature\n",
    "from skimage.color import rgb2gray\n",
    "from skimage.transform import resize\n",
    "from skimage.morphology import erosion, dilation, rectangle, square\n",
    "from skimage.measure import find_contours\n",
    "\n",
    "from scipy import ndimage as ndi\n",
    "from scipy.misc import imsave\n",
    "\n",
    "%matplotlib inline\n",
    "\n",
    "import numpy as np\n",
    "import matplotlib as mpl\n",
    "import matplotlib.pyplot as plt\n",
    "import cv2\n",
    "\n",
    "from collections import defaultdict\n",
    "from copy import deepcopy\n",
    "\n",
    "#import pyscreenshot as pysc\n",
    "from PIL import ImageGrab\n",
    "# from PIL import Image\n",
    "\n",
    "import random\n",
    "import math\n",
    "from time import sleep"
   ]
  },
  {
   "cell_type": "code",
   "execution_count": 2,
   "metadata": {
    "collapsed": false
   },
   "outputs": [],
   "source": [
    "mystery = ndi.imread('grid_square_mystery.png', mode='L')\n",
    "empty = ndi.imread('grid_square_empty.png', mode='L')\n",
    "grid_one = ndi.imread('grid_one.png', mode='L')\n",
    "grid_two = ndi.imread('grid_two.png', mode='L')\n",
    "grid_three = ndi.imread('grid_three.png', mode='L')\n",
    "minesweep = ndi.imread('my_shot.png', mode='L')\n",
    "smiley_face = ndi.imread('smiley_face.png', mode='L')\n",
    "flag = ndi.imread('flag.png', mode='L')\n",
    "#ndi.imshow(flag)\n"
   ]
  },
  {
   "cell_type": "code",
   "execution_count": 19,
   "metadata": {
    "collapsed": true
   },
   "outputs": [],
   "source": [
    "from Quartz.CoreGraphics import CGEventCreateMouseEvent\n",
    "from Quartz.CoreGraphics import CGEventPost\n",
    "from Quartz.CoreGraphics import kCGEventMouseMoved\n",
    "from Quartz.CoreGraphics import kCGEventLeftMouseDown\n",
    "from Quartz.CoreGraphics import kCGEventLeftMouseDown\n",
    "from Quartz.CoreGraphics import kCGEventLeftMouseUp\n",
    "from Quartz.CoreGraphics import kCGMouseButtonLeft\n",
    "from Quartz.CoreGraphics import kCGHIDEventTap\n",
    "\n",
    "\n",
    "def mouseEvent(type, posx, posy):\n",
    "        theEvent = CGEventCreateMouseEvent(\n",
    "                    None, \n",
    "                    type, \n",
    "                    (posx,posy), \n",
    "                    kCGMouseButtonLeft)\n",
    "        CGEventPost(kCGHIDEventTap, theEvent)\n",
    "\n",
    "def mousemove(posx,posy):\n",
    "        mouseEvent(kCGEventMouseMoved, posx,posy);\n",
    "\n",
    "def mouseclick(posx,posy):\n",
    "        # uncomment this line if you want to force the mouse \n",
    "        # to MOVE to the click location first (I found it was not necessary).\n",
    "        #mouseEvent(kCGEventMouseMoved, posx,posy);\n",
    "        mouseEvent(kCGEventLeftMouseDown, posx,posy);\n",
    "        mouseEvent(kCGEventLeftMouseUp, posx,posy);"
   ]
  },
  {
   "cell_type": "code",
   "execution_count": 20,
   "metadata": {
    "collapsed": false
   },
   "outputs": [],
   "source": [
    "fullscreen = ImageGrab.grab().convert('L')  # X1,Y1,X2,Y2\n",
    "#fullscreen.show()\n",
    "fs = np.array(fullscreen)"
   ]
  },
  {
   "cell_type": "code",
   "execution_count": 21,
   "metadata": {
    "collapsed": false
   },
   "outputs": [],
   "source": [
    "simil_mat = cv2.matchTemplate(fs, smiley_face, cv2.TM_CCOEFF_NORMED)\n",
    "thing = cv2.minMaxLoc(simil_mat)"
   ]
  },
  {
   "cell_type": "code",
   "execution_count": 22,
   "metadata": {
    "collapsed": false
   },
   "outputs": [],
   "source": [
    "max_loc = thing[3]"
   ]
  },
  {
   "cell_type": "code",
   "execution_count": null,
   "metadata": {
    "collapsed": false
   },
   "outputs": [],
   "source": []
  },
  {
   "cell_type": "code",
   "execution_count": 24,
   "metadata": {
    "collapsed": false
   },
   "outputs": [],
   "source": [
    "mouseclick(max_loc[0]/2 - 10, max_loc[1]/2)\n",
    "mines = ImageGrab.grab(bbox = (max_loc[0]-900, max_loc[1]-85, (max_loc[0]) + 955, (max_loc[1]) + 1100)).convert('L')  # X1,Y1,X2,Y2\n",
    "mines.show()\n",
    "mines = np.array(mines)"
   ]
  },
  {
   "cell_type": "code",
   "execution_count": 15,
   "metadata": {
    "collapsed": false
   },
   "outputs": [],
   "source": [
    "mysteries = cv2.matchTemplate(mines, mystery, cv2.TM_CCOEFF_NORMED)\n"
   ]
  },
  {
   "cell_type": "code",
   "execution_count": 16,
   "metadata": {
    "collapsed": true
   },
   "outputs": [],
   "source": [
    "def dist((x1,y1),(x2,y2)):\n",
    "    return math.sqrt((x2-x1)**2 + (y2-y1)**2)"
   ]
  },
  {
   "cell_type": "code",
   "execution_count": 17,
   "metadata": {
    "collapsed": false
   },
   "outputs": [],
   "source": [
    "def remove_close_points(spots, similarity_matrix, threshold = 5):\n",
    "    spotscopy = deepcopy(spots)\n",
    "    for i in range(len(spotscopy)):\n",
    "        for j in range(len(spotscopy)):\n",
    "            a = spotscopy[i]\n",
    "            b = spotscopy[j]\n",
    "            if dist(a,b) < threshold and j > i:\n",
    "                if similarity_matrix[a[0]][a[1]] > similarity_matrix[b[0]][b[1]] and b in spots:\n",
    "                    spots.remove(b)\n",
    "                elif similarity_matrix[a[0]][a[1]] < similarity_matrix[b[0]][b[1]] and a in spots:\n",
    "                    spots.remove(a)\n",
    "    return spots"
   ]
  },
  {
   "cell_type": "code",
   "execution_count": 18,
   "metadata": {
    "collapsed": false
   },
   "outputs": [],
   "source": [
    "def find_candidate_locations(similarity_matrix):\n",
    "    candidate_spots = []\n",
    "    thing = np.where(similarity_matrix > .8)\n",
    "#     for n in range(len(similarity_matrix)):\n",
    "#         for m in range(len(similarity_matrix[n])):\n",
    "#             if similarity_matrix[n][m] > .95:\n",
    "#                 candidate_spots.append((n,m))\n",
    "    return zip(thing[0], thing[1])\n",
    "#     final_spots = remove_close_points(candidate_spots, similarity_matrix)\n",
    "#     return final_spots"
   ]
  },
  {
   "cell_type": "code",
   "execution_count": 19,
   "metadata": {
    "collapsed": false
   },
   "outputs": [],
   "source": [
    "grid = np.negative(np.ones((9,9)))"
   ]
  },
  {
   "cell_type": "code",
   "execution_count": 20,
   "metadata": {
    "collapsed": false
   },
   "outputs": [],
   "source": [
    "grid_locations = remove_close_points(find_candidate_locations(mysteries), mysteries)"
   ]
  },
  {
   "cell_type": "code",
   "execution_count": 21,
   "metadata": {
    "collapsed": false
   },
   "outputs": [],
   "source": [
    "ones = cv2.matchTemplate(mines, grid_one, cv2.TM_CCOEFF_NORMED)\n",
    "flag_locations = remove_close_points(find_candidate_locations(ones), ones)"
   ]
  },
  {
   "cell_type": "code",
   "execution_count": 22,
   "metadata": {
    "collapsed": false
   },
   "outputs": [
    {
     "data": {
      "text/plain": [
       "[]"
      ]
     },
     "execution_count": 22,
     "metadata": {},
     "output_type": "execute_result"
    }
   ],
   "source": [
    "flag_locations"
   ]
  },
  {
   "cell_type": "code",
   "execution_count": 83,
   "metadata": {
    "collapsed": false
   },
   "outputs": [
    {
     "data": {
      "text/plain": [
       "[(85, 490),\n",
       " (195, 160),\n",
       " (195, 220),\n",
       " (195, 280),\n",
       " (195, 340),\n",
       " (195, 400),\n",
       " (195, 460),\n",
       " (195, 520),\n",
       " (195, 580),\n",
       " (195, 640),\n",
       " (195, 700),\n",
       " (195, 760),\n",
       " (195, 820),\n",
       " (195, 880),\n",
       " (195, 940),\n",
       " (255, 160),\n",
       " (255, 220),\n",
       " (255, 280),\n",
       " (255, 340),\n",
       " (255, 400),\n",
       " (255, 460),\n",
       " (255, 520),\n",
       " (255, 580),\n",
       " (255, 640),\n",
       " (255, 700),\n",
       " (255, 760),\n",
       " (255, 820),\n",
       " (255, 880),\n",
       " (255, 940),\n",
       " (315, 40),\n",
       " (315, 100),\n",
       " (315, 160),\n",
       " (315, 220),\n",
       " (315, 280),\n",
       " (315, 340),\n",
       " (315, 400),\n",
       " (315, 460),\n",
       " (315, 520),\n",
       " (315, 580),\n",
       " (315, 640),\n",
       " (315, 700),\n",
       " (315, 760),\n",
       " (315, 820),\n",
       " (315, 880),\n",
       " (315, 940),\n",
       " (375, 40),\n",
       " (375, 100),\n",
       " (375, 160),\n",
       " (375, 220),\n",
       " (375, 280),\n",
       " (375, 340),\n",
       " (375, 400),\n",
       " (375, 460),\n",
       " (375, 520),\n",
       " (375, 580),\n",
       " (375, 640),\n",
       " (375, 700),\n",
       " (375, 760),\n",
       " (375, 820),\n",
       " (375, 880),\n",
       " (375, 940),\n",
       " (435, 220),\n",
       " (435, 280),\n",
       " (435, 340),\n",
       " (435, 400),\n",
       " (435, 460),\n",
       " (435, 520),\n",
       " (435, 580),\n",
       " (435, 640),\n",
       " (435, 700),\n",
       " (435, 760),\n",
       " (435, 820),\n",
       " (435, 880),\n",
       " (435, 940),\n",
       " (495, 220),\n",
       " (495, 340),\n",
       " (495, 580),\n",
       " (495, 640),\n",
       " (495, 700),\n",
       " (495, 760),\n",
       " (495, 820),\n",
       " (495, 880),\n",
       " (495, 940),\n",
       " (555, 580),\n",
       " (555, 640),\n",
       " (555, 700),\n",
       " (555, 760),\n",
       " (555, 820),\n",
       " (555, 880),\n",
       " (555, 940),\n",
       " (615, 580),\n",
       " (615, 640),\n",
       " (615, 700),\n",
       " (615, 760),\n",
       " (615, 820),\n",
       " (615, 880),\n",
       " (615, 940),\n",
       " (675, 520),\n",
       " (675, 580),\n",
       " (675, 640),\n",
       " (675, 700),\n",
       " (675, 760),\n",
       " (675, 820),\n",
       " (675, 880),\n",
       " (675, 940),\n",
       " (735, 220),\n",
       " (735, 280),\n",
       " (735, 340),\n",
       " (735, 400),\n",
       " (735, 460),\n",
       " (735, 520),\n",
       " (735, 580),\n",
       " (735, 640),\n",
       " (735, 700),\n",
       " (735, 760),\n",
       " (735, 820),\n",
       " (735, 880),\n",
       " (735, 940),\n",
       " (795, 280),\n",
       " (795, 340),\n",
       " (795, 400),\n",
       " (795, 460),\n",
       " (795, 520),\n",
       " (795, 580),\n",
       " (795, 640),\n",
       " (795, 700),\n",
       " (795, 760),\n",
       " (795, 820),\n",
       " (795, 880),\n",
       " (795, 940),\n",
       " (855, 280),\n",
       " (855, 340),\n",
       " (855, 400),\n",
       " (855, 460),\n",
       " (855, 520),\n",
       " (855, 580),\n",
       " (855, 640),\n",
       " (855, 700),\n",
       " (855, 760),\n",
       " (855, 820),\n",
       " (855, 880),\n",
       " (855, 940),\n",
       " (915, 280),\n",
       " (915, 340),\n",
       " (915, 400),\n",
       " (915, 460),\n",
       " (915, 520),\n",
       " (915, 580),\n",
       " (915, 640),\n",
       " (915, 700),\n",
       " (915, 760),\n",
       " (915, 820),\n",
       " (915, 880),\n",
       " (915, 940),\n",
       " (975, 40),\n",
       " (975, 280),\n",
       " (975, 340),\n",
       " (975, 400),\n",
       " (975, 460),\n",
       " (975, 520),\n",
       " (975, 580),\n",
       " (975, 640),\n",
       " (975, 700),\n",
       " (975, 760),\n",
       " (975, 820),\n",
       " (975, 880),\n",
       " (975, 940),\n",
       " (1035, 160),\n",
       " (1035, 220),\n",
       " (1035, 280),\n",
       " (1035, 340),\n",
       " (1035, 400),\n",
       " (1035, 460),\n",
       " (1035, 520),\n",
       " (1035, 580),\n",
       " (1035, 640),\n",
       " (1035, 700),\n",
       " (1035, 760),\n",
       " (1035, 820),\n",
       " (1035, 880),\n",
       " (1035, 940),\n",
       " (1095, 160),\n",
       " (1095, 220),\n",
       " (1095, 280),\n",
       " (1095, 340),\n",
       " (1095, 400),\n",
       " (1095, 460),\n",
       " (1095, 520),\n",
       " (1095, 580),\n",
       " (1095, 640),\n",
       " (1095, 700),\n",
       " (1095, 760),\n",
       " (1095, 820),\n",
       " (1095, 880),\n",
       " (1095, 940)]"
      ]
     },
     "execution_count": 83,
     "metadata": {},
     "output_type": "execute_result"
    }
   ],
   "source": [
    "grid_locations"
   ]
  },
  {
   "cell_type": "code",
   "execution_count": 79,
   "metadata": {
    "collapsed": false
   },
   "outputs": [],
   "source": []
  },
  {
   "cell_type": "code",
   "execution_count": 80,
   "metadata": {
    "collapsed": false
   },
   "outputs": [
    {
     "data": {
      "text/plain": [
       "[(195, 40),\n",
       " (195, 100),\n",
       " (255, 40),\n",
       " (255, 100),\n",
       " (495, 280),\n",
       " (1035, 40),\n",
       " (1035, 100),\n",
       " (1095, 40),\n",
       " (1095, 100)]"
      ]
     },
     "execution_count": 80,
     "metadata": {},
     "output_type": "execute_result"
    }
   ],
   "source": [
    "flag_locations"
   ]
  },
  {
   "cell_type": "code",
   "execution_count": 56,
   "metadata": {
    "collapsed": false
   },
   "outputs": [
    {
     "data": {
      "text/plain": [
       "[(57, 526),\n",
       " (483, 22),\n",
       " (483, 82),\n",
       " (543, 22),\n",
       " (543, 82),\n",
       " (543, 442),\n",
       " (603, 22),\n",
       " (603, 82),\n",
       " (603, 142),\n",
       " (603, 202),\n",
       " (603, 262),\n",
       " (603, 322),\n",
       " (603, 382),\n",
       " (663, 22),\n",
       " (663, 82),\n",
       " (721, 20),\n",
       " (721, 80),\n",
       " (781, 20),\n",
       " (781, 80),\n",
       " (841, 140),\n",
       " (843, 20),\n",
       " (843, 80),\n",
       " (903, 140)]"
      ]
     },
     "execution_count": 56,
     "metadata": {},
     "output_type": "execute_result"
    }
   ],
   "source": [
    "empty_locations"
   ]
  },
  {
   "cell_type": "code",
   "execution_count": 51,
   "metadata": {
    "collapsed": false
   },
   "outputs": [
    {
     "data": {
      "text/plain": [
       "[(483, 502)]"
      ]
     },
     "execution_count": 51,
     "metadata": {},
     "output_type": "execute_result"
    }
   ],
   "source": [
    "three_locations # -12, -18"
   ]
  },
  {
   "cell_type": "code",
   "execution_count": 43,
   "metadata": {
    "collapsed": false
   },
   "outputs": [
    {
     "data": {
      "text/plain": [
       "[(423, 22),\n",
       " (423, 82),\n",
       " (423, 142),\n",
       " (483, 142),\n",
       " (483, 382),\n",
       " (483, 442),\n",
       " (543, 142),\n",
       " (543, 202),\n",
       " (543, 322),\n",
       " (543, 382),\n",
       " (543, 502),\n",
       " (603, 442),\n",
       " (603, 502),\n",
       " (663, 142),\n",
       " (663, 202),\n",
       " (663, 262),\n",
       " (663, 322),\n",
       " (663, 382),\n",
       " (723, 142),\n",
       " (783, 142),\n",
       " (783, 202),\n",
       " (843, 202),\n",
       " (903, 22),\n",
       " (903, 82),\n",
       " (903, 202),\n",
       " (963, 142)]"
      ]
     },
     "execution_count": 43,
     "metadata": {},
     "output_type": "execute_result"
    }
   ],
   "source": [
    "one_locations # -12, -18"
   ]
  },
  {
   "cell_type": "code",
   "execution_count": 22,
   "metadata": {
    "collapsed": false
   },
   "outputs": [
    {
     "data": {
      "text/plain": [
       "[(195, 40),\n",
       " (195, 100),\n",
       " (195, 160),\n",
       " (195, 220),\n",
       " (195, 280),\n",
       " (195, 340),\n",
       " (195, 400),\n",
       " (195, 460),\n",
       " (195, 520),\n",
       " (195, 580),\n",
       " (195, 640),\n",
       " (195, 700),\n",
       " (195, 760),\n",
       " (195, 820),\n",
       " (195, 880),\n",
       " (195, 940),\n",
       " (255, 40),\n",
       " (255, 100),\n",
       " (255, 160),\n",
       " (255, 220),\n",
       " (255, 280),\n",
       " (255, 340),\n",
       " (255, 400),\n",
       " (255, 460),\n",
       " (255, 520),\n",
       " (255, 580),\n",
       " (255, 640),\n",
       " (255, 700),\n",
       " (255, 760),\n",
       " (255, 820),\n",
       " (255, 880),\n",
       " (255, 940),\n",
       " (315, 40),\n",
       " (315, 100),\n",
       " (315, 160),\n",
       " (315, 220),\n",
       " (315, 280),\n",
       " (315, 340),\n",
       " (315, 400),\n",
       " (315, 460),\n",
       " (315, 520),\n",
       " (315, 580),\n",
       " (315, 640),\n",
       " (315, 700),\n",
       " (315, 760),\n",
       " (315, 820),\n",
       " (315, 880),\n",
       " (315, 940),\n",
       " (375, 40),\n",
       " (375, 100),\n",
       " (375, 160),\n",
       " (375, 220),\n",
       " (375, 280),\n",
       " (375, 340),\n",
       " (375, 400),\n",
       " (375, 460),\n",
       " (375, 520),\n",
       " (375, 580),\n",
       " (375, 640),\n",
       " (375, 700),\n",
       " (375, 760),\n",
       " (375, 820),\n",
       " (375, 880),\n",
       " (375, 940),\n",
       " (435, 40),\n",
       " (435, 100),\n",
       " (435, 160),\n",
       " (435, 220),\n",
       " (435, 280),\n",
       " (435, 340),\n",
       " (435, 400),\n",
       " (435, 460),\n",
       " (435, 520),\n",
       " (435, 580),\n",
       " (435, 640),\n",
       " (435, 700),\n",
       " (435, 760),\n",
       " (435, 820),\n",
       " (435, 880),\n",
       " (435, 940),\n",
       " (495, 40),\n",
       " (495, 100),\n",
       " (495, 160),\n",
       " (495, 220),\n",
       " (495, 280),\n",
       " (495, 340),\n",
       " (495, 400),\n",
       " (495, 460),\n",
       " (495, 520),\n",
       " (495, 580),\n",
       " (495, 640),\n",
       " (495, 700),\n",
       " (495, 760),\n",
       " (495, 820),\n",
       " (495, 880),\n",
       " (495, 940),\n",
       " (555, 40),\n",
       " (555, 100),\n",
       " (555, 160),\n",
       " (555, 220),\n",
       " (555, 280),\n",
       " (555, 340),\n",
       " (555, 400),\n",
       " (555, 460),\n",
       " (555, 520),\n",
       " (555, 580),\n",
       " (555, 640),\n",
       " (555, 700),\n",
       " (555, 760),\n",
       " (555, 820),\n",
       " (555, 880),\n",
       " (555, 940),\n",
       " (615, 40),\n",
       " (615, 100),\n",
       " (615, 160),\n",
       " (615, 220),\n",
       " (615, 280),\n",
       " (615, 340),\n",
       " (615, 400),\n",
       " (615, 460),\n",
       " (615, 520),\n",
       " (615, 580),\n",
       " (615, 640),\n",
       " (615, 700),\n",
       " (615, 760),\n",
       " (615, 820),\n",
       " (615, 880),\n",
       " (615, 940),\n",
       " (675, 40),\n",
       " (675, 100),\n",
       " (675, 160),\n",
       " (675, 220),\n",
       " (675, 280),\n",
       " (675, 340),\n",
       " (675, 400),\n",
       " (675, 460),\n",
       " (675, 520),\n",
       " (675, 580),\n",
       " (675, 640),\n",
       " (675, 700),\n",
       " (675, 760),\n",
       " (675, 820),\n",
       " (675, 880),\n",
       " (675, 940),\n",
       " (735, 40),\n",
       " (735, 100),\n",
       " (735, 160),\n",
       " (735, 220),\n",
       " (735, 280),\n",
       " (735, 340),\n",
       " (735, 400),\n",
       " (735, 460),\n",
       " (735, 520),\n",
       " (735, 580),\n",
       " (735, 640),\n",
       " (735, 700),\n",
       " (735, 760),\n",
       " (735, 820),\n",
       " (735, 880),\n",
       " (735, 940),\n",
       " (795, 40),\n",
       " (795, 100),\n",
       " (795, 160),\n",
       " (795, 220),\n",
       " (795, 280),\n",
       " (795, 340),\n",
       " (795, 400),\n",
       " (795, 460),\n",
       " (795, 520),\n",
       " (795, 580),\n",
       " (795, 640),\n",
       " (795, 700),\n",
       " (795, 760),\n",
       " (795, 820),\n",
       " (795, 880),\n",
       " (795, 940),\n",
       " (855, 40),\n",
       " (855, 100),\n",
       " (855, 160),\n",
       " (855, 220),\n",
       " (855, 280),\n",
       " (855, 340),\n",
       " (855, 400),\n",
       " (855, 460),\n",
       " (855, 520),\n",
       " (855, 580),\n",
       " (855, 640),\n",
       " (855, 700),\n",
       " (855, 760),\n",
       " (855, 820),\n",
       " (855, 880),\n",
       " (855, 940),\n",
       " (915, 40),\n",
       " (915, 100),\n",
       " (915, 160),\n",
       " (915, 220),\n",
       " (915, 280),\n",
       " (915, 340),\n",
       " (915, 400),\n",
       " (915, 460),\n",
       " (915, 520),\n",
       " (915, 580),\n",
       " (915, 640),\n",
       " (915, 700),\n",
       " (915, 760),\n",
       " (915, 820),\n",
       " (915, 880),\n",
       " (915, 940),\n",
       " (975, 40),\n",
       " (975, 100),\n",
       " (975, 160),\n",
       " (975, 220),\n",
       " (975, 280),\n",
       " (975, 340),\n",
       " (975, 400),\n",
       " (975, 460),\n",
       " (975, 520),\n",
       " (975, 580),\n",
       " (975, 640),\n",
       " (975, 700),\n",
       " (975, 760),\n",
       " (975, 820),\n",
       " (975, 880),\n",
       " (975, 940),\n",
       " (1035, 40),\n",
       " (1035, 100),\n",
       " (1035, 160),\n",
       " (1035, 220),\n",
       " (1035, 280),\n",
       " (1035, 340),\n",
       " (1035, 400),\n",
       " (1035, 460),\n",
       " (1035, 520),\n",
       " (1035, 580),\n",
       " (1035, 640),\n",
       " (1035, 700),\n",
       " (1035, 760),\n",
       " (1035, 820),\n",
       " (1035, 880),\n",
       " (1035, 940),\n",
       " (1095, 40),\n",
       " (1095, 100),\n",
       " (1095, 160),\n",
       " (1095, 220),\n",
       " (1095, 280),\n",
       " (1095, 340),\n",
       " (1095, 400),\n",
       " (1095, 460),\n",
       " (1095, 520),\n",
       " (1095, 580),\n",
       " (1095, 640),\n",
       " (1095, 700),\n",
       " (1095, 760),\n",
       " (1095, 820),\n",
       " (1095, 880),\n",
       " (1095, 940)]"
      ]
     },
     "execution_count": 22,
     "metadata": {},
     "output_type": "execute_result"
    }
   ],
   "source": [
    "grid_locations"
   ]
  },
  {
   "cell_type": "code",
   "execution_count": 23,
   "metadata": {
    "collapsed": false
   },
   "outputs": [],
   "source": [
    "grid_loc_dict = dict()\n",
    "for i in range(len(grid_locations)):\n",
    "    tup = grid_locations[i]\n",
    "    grid_loc_dict[tup] = (i/9, i % 9)\n",
    "\n",
    "grid_coord_dict = dict()\n",
    "\n",
    "for x in grid_loc_dict.items():\n",
    "    grid_coord_dict[x[1]] = x[0]"
   ]
  },
  {
   "cell_type": "code",
   "execution_count": 121,
   "metadata": {
    "collapsed": false
   },
   "outputs": [],
   "source": [
    "mouseclick((max_loc[0]-275)/2 + 17 + 15 , (max_loc[1]-85)/2 + 100 + 15)"
   ]
  },
  {
   "cell_type": "code",
   "execution_count": 97,
   "metadata": {
    "collapsed": false
   },
   "outputs": [
    {
     "data": {
      "text/plain": [
       "(2114, 300)"
      ]
     },
     "execution_count": 97,
     "metadata": {},
     "output_type": "execute_result"
    }
   ],
   "source": [
    "max_loc"
   ]
  },
  {
   "cell_type": "code",
   "execution_count": 115,
   "metadata": {
    "collapsed": false
   },
   "outputs": [
    {
     "data": {
      "text/plain": [
       "(195, 35)"
      ]
     },
     "execution_count": 115,
     "metadata": {},
     "output_type": "execute_result"
    }
   ],
   "source": [
    "grid_coord_dict[(0,0)]"
   ]
  },
  {
   "cell_type": "code",
   "execution_count": 104,
   "metadata": {
    "collapsed": true
   },
   "outputs": [],
   "source": [
    "mouseclick(2114/2, 300/2)"
   ]
  },
  {
   "cell_type": "code",
   "execution_count": null,
   "metadata": {
    "collapsed": true
   },
   "outputs": [],
   "source": [
    "#DO SOMETHING (generate mouseclick on the board)\n",
    "#retake picture, generate grid, do it again"
   ]
  },
  {
   "cell_type": "code",
   "execution_count": null,
   "metadata": {
    "collapsed": false
   },
   "outputs": [],
   "source": [
    "mystery_squares = np.where(grid == -1)\n",
    "mystery_squares = zip(mystery_squares[0], mystery_squares[1])\n",
    "n = random.randint(0, len(mystery_squares) - 1)\n",
    "click_target_x = (max_loc[0] + grid_coord_dict[mystery_squares[n]][1])/2 + 15\n",
    "click_target_y= (max_loc[1] + grid_coord_dict[mystery_squares[n]][0])/2 + 15\n",
    "\n",
    "mouseclick(click_target_x,click_target_y)\n",
    "mouseclick(click_target_x,click_target_y)"
   ]
  },
  {
   "cell_type": "code",
   "execution_count": 29,
   "metadata": {
    "collapsed": true
   },
   "outputs": [],
   "source": [
    "def generate_grid(grid_locations, picture):\n",
    "    my_grid = np.zeros((9,9))\n",
    "    ones = cv2.matchTemplate(picture, grid_one, cv2.TM_CCOEFF_NORMED)\n",
    "    twos = cv2.matchTemplate(picture, grid_two, cv2.TM_CCOEFF_NORMED)\n",
    "    threes = cv2.matchTemplate(picture, grid_three, cv2.TM_CCOEFF_NORMED)\n",
    "    empties = cv2.matchTemplate(picture, empty, cv2.TM_CCOEFF_NORMED)\n",
    "    mysteries = cv2.matchTemplate(picture, mystery, cv2.TM_CCOEFF_NORMED)\n",
    "    adj = 2\n",
    "    #there is a clear path to rid ourselves of this for loop. Implement later.\n",
    "    for loc in grid_locations:\n",
    "        coords = grid_loc_dict[loc]\n",
    "        one_sim = ones[loc[0] + adj, loc[1] + adj]\n",
    "        two_sim = twos[loc[0] + adj, loc[1] + adj]\n",
    "        three_sim = threes[loc[0] + adj, loc[1] + adj]\n",
    "        empty_sim = empties[loc[0] + adj, loc[1] + adj]\n",
    "        mystery_sim = mysteries[loc[0], loc[1]]\n",
    "        ind = np.argmax([empty_sim, one_sim, two_sim, three_sim, mystery_sim])\n",
    "        my_grid[coords[0], coords[1]] = -1 if ind == 4 else ind\n",
    "    return my_grid"
   ]
  },
  {
   "cell_type": "code",
   "execution_count": 26,
   "metadata": {
    "collapsed": false
   },
   "outputs": [],
   "source": [
    "mines = ImageGrab.grab(bbox = (max_loc[0]-490, max_loc[1]-85, (max_loc[0]) + 545, (max_loc[1]) + 1100)).convert('L')  # X1,Y1,X2,Y2\n",
    "mines.show()\n",
    "mines = np.array(mines)"
   ]
  },
  {
   "cell_type": "markdown",
   "metadata": {},
   "source": [
    "IOError: cannot identify image file '/var/folders/fq/j4n3bx35559ctrhbm0cc_wg80000gn/T/pyscreenshot_screencapture_hgz51t.png'"
   ]
  },
  {
   "cell_type": "code",
   "execution_count": 30,
   "metadata": {
    "collapsed": false
   },
   "outputs": [
    {
     "ename": "IndexError",
     "evalue": "index 582 is out of bounds for axis 1 with size 555",
     "output_type": "error",
     "traceback": [
      "\u001b[0;31m---------------------------------------------------------------------------\u001b[0m",
      "\u001b[0;31mIndexError\u001b[0m                                Traceback (most recent call last)",
      "\u001b[0;32m<ipython-input-30-f036302e385c>\u001b[0m in \u001b[0;36m<module>\u001b[0;34m()\u001b[0m\n\u001b[0;32m----> 1\u001b[0;31m \u001b[0mgrid\u001b[0m \u001b[0;34m=\u001b[0m \u001b[0mgenerate_grid\u001b[0m\u001b[0;34m(\u001b[0m\u001b[0mgrid_locations\u001b[0m\u001b[0;34m,\u001b[0m \u001b[0mmines2\u001b[0m\u001b[0;34m)\u001b[0m\u001b[0;34m\u001b[0m\u001b[0m\n\u001b[0m",
      "\u001b[0;32m<ipython-input-29-d0ec404644dc>\u001b[0m in \u001b[0;36mgenerate_grid\u001b[0;34m(grid_locations, picture)\u001b[0m\n\u001b[1;32m     10\u001b[0m     \u001b[0;32mfor\u001b[0m \u001b[0mloc\u001b[0m \u001b[0;32min\u001b[0m \u001b[0mgrid_locations\u001b[0m\u001b[0;34m:\u001b[0m\u001b[0;34m\u001b[0m\u001b[0m\n\u001b[1;32m     11\u001b[0m         \u001b[0mcoords\u001b[0m \u001b[0;34m=\u001b[0m \u001b[0mgrid_loc_dict\u001b[0m\u001b[0;34m[\u001b[0m\u001b[0mloc\u001b[0m\u001b[0;34m]\u001b[0m\u001b[0;34m\u001b[0m\u001b[0m\n\u001b[0;32m---> 12\u001b[0;31m         \u001b[0mone_sim\u001b[0m \u001b[0;34m=\u001b[0m \u001b[0mones\u001b[0m\u001b[0;34m[\u001b[0m\u001b[0mloc\u001b[0m\u001b[0;34m[\u001b[0m\u001b[0;36m0\u001b[0m\u001b[0;34m]\u001b[0m \u001b[0;34m+\u001b[0m \u001b[0madj\u001b[0m\u001b[0;34m,\u001b[0m \u001b[0mloc\u001b[0m\u001b[0;34m[\u001b[0m\u001b[0;36m1\u001b[0m\u001b[0;34m]\u001b[0m \u001b[0;34m+\u001b[0m \u001b[0madj\u001b[0m\u001b[0;34m]\u001b[0m\u001b[0;34m\u001b[0m\u001b[0m\n\u001b[0m\u001b[1;32m     13\u001b[0m         \u001b[0mtwo_sim\u001b[0m \u001b[0;34m=\u001b[0m \u001b[0mtwos\u001b[0m\u001b[0;34m[\u001b[0m\u001b[0mloc\u001b[0m\u001b[0;34m[\u001b[0m\u001b[0;36m0\u001b[0m\u001b[0;34m]\u001b[0m \u001b[0;34m+\u001b[0m \u001b[0madj\u001b[0m\u001b[0;34m,\u001b[0m \u001b[0mloc\u001b[0m\u001b[0;34m[\u001b[0m\u001b[0;36m1\u001b[0m\u001b[0;34m]\u001b[0m \u001b[0;34m+\u001b[0m \u001b[0madj\u001b[0m\u001b[0;34m]\u001b[0m\u001b[0;34m\u001b[0m\u001b[0m\n\u001b[1;32m     14\u001b[0m         \u001b[0mthree_sim\u001b[0m \u001b[0;34m=\u001b[0m \u001b[0mthrees\u001b[0m\u001b[0;34m[\u001b[0m\u001b[0mloc\u001b[0m\u001b[0;34m[\u001b[0m\u001b[0;36m0\u001b[0m\u001b[0;34m]\u001b[0m \u001b[0;34m+\u001b[0m \u001b[0madj\u001b[0m\u001b[0;34m,\u001b[0m \u001b[0mloc\u001b[0m\u001b[0;34m[\u001b[0m\u001b[0;36m1\u001b[0m\u001b[0;34m]\u001b[0m \u001b[0;34m+\u001b[0m \u001b[0madj\u001b[0m\u001b[0;34m]\u001b[0m\u001b[0;34m\u001b[0m\u001b[0m\n",
      "\u001b[0;31mIndexError\u001b[0m: index 582 is out of bounds for axis 1 with size 555"
     ]
    }
   ],
   "source": [
    "grid = generate_grid(grid_locations, mines2)"
   ]
  },
  {
   "cell_type": "code",
   "execution_count": null,
   "metadata": {
    "collapsed": false
   },
   "outputs": [],
   "source": [
    "for i in range(10):\n",
    "    mystery_squares = np.where(grid == -1)\n",
    "    mystery_squares = zip(mystery_squares[0], mystery_squares[1])\n",
    "    n = random.randint(0, len(mystery_squares) - 1)\n",
    "    click_target_x = (max_loc[0] + grid_coord_dict[mystery_squares[n]][1])/2 + 15\n",
    "    click_target_y= (max_loc[1] + grid_coord_dict[mystery_squares[n]][0])/2 + 15\n",
    "\n",
    "    mouseclick(click_target_x, click_target_y)\n",
    "    mouseclick(click_target_x, click_target_y)\n",
    "\n",
    "    mines2 = ImageGrab.grab(bbox = (max_loc[0], max_loc[1], max_loc[0] + 610, max_loc[1] + 780)).convert('L')  # X1,Y1,X2,Y2\n",
    "    #mines2.show()\n",
    "    mines2 = np.array(mines2)\n",
    "    grid = generate_grid(grid_locations, mines2)"
   ]
  },
  {
   "cell_type": "code",
   "execution_count": 26,
   "metadata": {
    "collapsed": false
   },
   "outputs": [],
   "source": [
    "def finalize_grid_locations():\n",
    "    fullscreen = ImageGrab.grab().convert('L')  # X1,Y1,X2,Y2\n",
    "    fs = np.array(fullscreen)\n",
    "    simil_mat = cv2.matchTemplate(fs, minesweep, cv2.TM_CCOEFF_NORMED)\n",
    "    thing = cv2.minMaxLoc(simil_mat)\n",
    "    max_loc = thing[3]\n",
    "    mines = ImageGrab.grab(bbox = (max_loc[0], max_loc[1], (max_loc[0]) + 610, (max_loc[1]) + 780)).convert('L')  # X1,Y1,X2,Y2\n",
    "    #mines.show()\n",
    "    mines = np.array(mines)\n",
    "    mysteries = cv2.matchTemplate(mines, mystery, cv2.TM_CCOEFF_NORMED)\n",
    "    grid_locations = remove_close_points(find_grid_locations(mysteries), mysteries)\n",
    "    return max_loc, grid_locations"
   ]
  },
  {
   "cell_type": "code",
   "execution_count": 39,
   "metadata": {
    "collapsed": false
   },
   "outputs": [],
   "source": [
    "def play_minesweeper():\n",
    "    max_loc, grid_locations = finalize_grid_locations()\n",
    "    #create dictionary between locations and coordinates\n",
    "    grid_loc_dict = dict()\n",
    "    for i in range(len(grid_locations)):\n",
    "        tup = grid_locations[i]\n",
    "        grid_loc_dict[tup] = (i/9, i % 9)\n",
    "\n",
    "    grid_coord_dict = dict()\n",
    "    for x in grid_loc_dict.items():\n",
    "        grid_coord_dict[x[1]] = x[0]\n",
    "    grid = np.negative(np.ones((9,9)))\n",
    "    \n",
    "    for i in range(7):\n",
    "        mystery_squares = np.where(grid == -1)\n",
    "        mystery_squares = zip(mystery_squares[0], mystery_squares[1])\n",
    "        n = random.randint(0, len(mystery_squares) - 1)\n",
    "        click_target_x = (max_loc[0] + grid_coord_dict[mystery_squares[n]][1])/2 + 15\n",
    "        click_target_y= (max_loc[1] + grid_coord_dict[mystery_squares[n]][0])/2 + 15\n",
    "\n",
    "        mouseclick(click_target_x,click_target_y)\n",
    "        mouseclick(click_target_x,click_target_y)\n",
    "        mines2 = ImageGrab.grab(bbox = (max_loc[0], max_loc[1], max_loc[0] + 610, max_loc[1] + 780)).convert('L')  # X1,Y1,X2,Y2\n",
    "        #mines2.show()\n",
    "        mines2 = np.array(mines2)\n",
    "        grid = generate_grid(grid_locations, mines2, grid_loc_dict)\n",
    "        sleep(1)      "
   ]
  },
  {
   "cell_type": "code",
   "execution_count": 46,
   "metadata": {
    "collapsed": false
   },
   "outputs": [],
   "source": [
    "play_minesweeper()"
   ]
  },
  {
   "cell_type": "code",
   "execution_count": null,
   "metadata": {
    "collapsed": false
   },
   "outputs": [],
   "source": [
    "def alg(grid):\n",
    "    mysery_count = count_adjacent(coord, -1)\n",
    "    flag_count = count_adjacent()\n",
    "    \n",
    "    "
   ]
  },
  {
   "cell_type": "code",
   "execution_count": null,
   "metadata": {
    "collapsed": true
   },
   "outputs": [],
   "source": [
    "x = np.arange(9.).reshape(3, 3)"
   ]
  },
  {
   "cell_type": "code",
   "execution_count": null,
   "metadata": {
    "collapsed": false
   },
   "outputs": [],
   "source": [
    "x"
   ]
  },
  {
   "cell_type": "code",
   "execution_count": null,
   "metadata": {
    "collapsed": false
   },
   "outputs": [],
   "source": [
    "thing = np.where(x > 4)"
   ]
  },
  {
   "cell_type": "code",
   "execution_count": null,
   "metadata": {
    "collapsed": false
   },
   "outputs": [],
   "source": [
    "zip(thing[0], thing[1])"
   ]
  },
  {
   "cell_type": "code",
   "execution_count": null,
   "metadata": {
    "collapsed": false
   },
   "outputs": [],
   "source": [
    "plt.imshow(pic, cmap='gray')"
   ]
  },
  {
   "cell_type": "code",
   "execution_count": null,
   "metadata": {
    "collapsed": false
   },
   "outputs": [],
   "source": [
    "for x in all_my_lists: \n",
    "    if len(x) != 9:\n",
    "        print(x)"
   ]
  },
  {
   "cell_type": "code",
   "execution_count": null,
   "metadata": {
    "collapsed": false
   },
   "outputs": [],
   "source": [
    "len(sum(all_my_lists,[]))"
   ]
  },
  {
   "cell_type": "code",
   "execution_count": null,
   "metadata": {
    "collapsed": false,
    "scrolled": true
   },
   "outputs": [],
   "source": [
    "length_arr = []  \n",
    "for arr in all_my_lists:\n",
    "    length_arr.append((max(zip(*arr)[1]) - min(zip(*arr)[1]))/(len(arr)-1))\n",
    "length_arr     "
   ]
  },
  {
   "cell_type": "code",
   "execution_count": null,
   "metadata": {
    "collapsed": false
   },
   "outputs": [],
   "source": [
    "def binarize(matrix, threshold=0.7):\n",
    "    temp = matrix\n",
    "    for m in range(len(temp)):\n",
    "        for n in range(len(temp[m])):\n",
    "            if temp[m][n] < threshold:\n",
    "                temp[m][n] = 0.0\n",
    "            else:\n",
    "                temp[m][n] = 1.0\n",
    "    return temp"
   ]
  },
  {
   "cell_type": "code",
   "execution_count": null,
   "metadata": {
    "collapsed": false
   },
   "outputs": [],
   "source": [
    "bwminesweep = binarize(minesweep_1)\n",
    "plt.imshow(bwminesweep, cmap='gray')"
   ]
  },
  {
   "cell_type": "code",
   "execution_count": null,
   "metadata": {
    "collapsed": false
   },
   "outputs": [],
   "source": [
    "fig, ax = plt.subplots()\n",
    "ax.imshow(minesweep_1, interpolation='nearest', cmap=plt.cm.gray)\n",
    "\n",
    "contours = find_contours(minesweep_1, 0.8)\n",
    "c = 0\n",
    "for n, contour in enumerate(contours):\n",
    "    if c < 3000:\n",
    "        if len(contour[:, 1]) > 60:\n",
    "            ax.plot(contour[:, 1], contour[:, 0], linewidth=2)\n",
    "        c += 1\n",
    "    else:\n",
    "        break\n",
    "ax.axis('image')\n",
    "ax.set_xticks([])\n",
    "ax.set_yticks([])\n",
    "plt.show()"
   ]
  },
  {
   "cell_type": "code",
   "execution_count": null,
   "metadata": {
    "collapsed": false
   },
   "outputs": [],
   "source": [
    "contours"
   ]
  },
  {
   "cell_type": "code",
   "execution_count": null,
   "metadata": {
    "collapsed": false
   },
   "outputs": [],
   "source": [
    "enumerate(contours)"
   ]
  },
  {
   "cell_type": "code",
   "execution_count": null,
   "metadata": {
    "collapsed": false
   },
   "outputs": [],
   "source": [
    "\n"
   ]
  },
  {
   "cell_type": "code",
   "execution_count": null,
   "metadata": {
    "collapsed": false
   },
   "outputs": [],
   "source": [
    "type(im)"
   ]
  },
  {
   "cell_type": "code",
   "execution_count": null,
   "metadata": {
    "collapsed": false
   },
   "outputs": [],
   "source": [
    "im = im.convert('RGB')\n"
   ]
  },
  {
   "cell_type": "code",
   "execution_count": null,
   "metadata": {
    "collapsed": true
   },
   "outputs": [],
   "source": [
    "im.show(im)"
   ]
  },
  {
   "cell_type": "code",
   "execution_count": null,
   "metadata": {
    "collapsed": false
   },
   "outputs": [],
   "source": [
    "imarr = np.array(im)"
   ]
  },
  {
   "cell_type": "code",
   "execution_count": null,
   "metadata": {
    "collapsed": false
   },
   "outputs": [],
   "source": [
    "imarr.shape"
   ]
  },
  {
   "cell_type": "code",
   "execution_count": null,
   "metadata": {
    "collapsed": false
   },
   "outputs": [],
   "source": [
    "plt.imshow(temp, cmap='gray')"
   ]
  },
  {
   "cell_type": "code",
   "execution_count": null,
   "metadata": {
    "collapsed": false
   },
   "outputs": [],
   "source": [
    "plt.imshow(minesweep_1, cmap = 'gray')"
   ]
  },
  {
   "cell_type": "code",
   "execution_count": null,
   "metadata": {
    "collapsed": false
   },
   "outputs": [],
   "source": [
    "temp = ndi.imread('grid_square.png', mode='L')\n"
   ]
  },
  {
   "cell_type": "code",
   "execution_count": null,
   "metadata": {
    "collapsed": false
   },
   "outputs": [],
   "source": [
    "temp.shape"
   ]
  },
  {
   "cell_type": "code",
   "execution_count": null,
   "metadata": {
    "collapsed": false
   },
   "outputs": [],
   "source": []
  },
  {
   "cell_type": "code",
   "execution_count": null,
   "metadata": {
    "collapsed": false
   },
   "outputs": [],
   "source": [
    "info = cv2.minMaxLoc(thing)"
   ]
  },
  {
   "cell_type": "code",
   "execution_count": null,
   "metadata": {
    "collapsed": false
   },
   "outputs": [],
   "source": [
    "x1 = info[3][0]/2\n",
    "x2 = x1 + 50\n",
    "y1 = info[3][1]/2\n",
    "y2 = y1 + 50"
   ]
  },
  {
   "cell_type": "code",
   "execution_count": null,
   "metadata": {
    "collapsed": false
   },
   "outputs": [],
   "source": [
    "if __name__ == '__main__':\n",
    "    # part of the screen\n",
    "    im2 = ImageGrab.grab(bbox=(x1, y1, x2, y2))  # X1,Y1,X2,Y2\n",
    "    im2.show()"
   ]
  },
  {
   "cell_type": "code",
   "execution_count": null,
   "metadata": {
    "collapsed": true
   },
   "outputs": [],
   "source": []
  }
 ],
 "metadata": {
  "anaconda-cloud": {},
  "kernelspec": {
   "display_name": "Python [default]",
   "language": "python",
   "name": "python2"
  },
  "language_info": {
   "codemirror_mode": {
    "name": "ipython",
    "version": 2
   },
   "file_extension": ".py",
   "mimetype": "text/x-python",
   "name": "python",
   "nbconvert_exporter": "python",
   "pygments_lexer": "ipython2",
   "version": "2.7.12"
  }
 },
 "nbformat": 4,
 "nbformat_minor": 1
}
