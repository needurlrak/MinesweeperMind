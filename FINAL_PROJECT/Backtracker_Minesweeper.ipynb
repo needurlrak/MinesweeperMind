{
 "cells": [
  {
   "cell_type": "code",
   "execution_count": 2,
   "metadata": {
    "collapsed": true
   },
   "outputs": [],
   "source": [
    "from skimage import feature\n",
    "from skimage.color import rgb2gray\n",
    "from skimage.transform import resize\n",
    "from skimage.morphology import erosion, dilation, rectangle, square\n",
    "from skimage.measure import find_contours\n",
    "\n",
    "from scipy import ndimage as ndi\n",
    "from scipy.misc import imsave\n",
    "\n",
    "%matplotlib inline\n",
    "\n",
    "import numpy as np\n",
    "import matplotlib as mpl\n",
    "import matplotlib.pyplot as plt\n",
    "import cv2\n",
    "\n",
    "from collections import defaultdict\n",
    "from copy import deepcopy\n",
    "\n",
    "#import pyscreenshot as pysc\n",
    "from PIL import ImageGrab\n",
    "# from PIL import Image\n",
    "\n",
    "import random\n",
    "import math\n",
    "from time import sleep"
   ]
  },
  {
   "cell_type": "code",
   "execution_count": 3,
   "metadata": {
    "collapsed": false
   },
   "outputs": [],
   "source": [
    "#Loading in all the images that we will use for template matching later\n",
    "colormode = 'L'\n",
    "mystery = ndi.imread('grid_square_mystery.png', mode=colormode)\n",
    "empty = ndi.imread('grid_square_empty.png',  mode=colormode)\n",
    "grid_one = ndi.imread('grid_one.png', mode=colormode)\n",
    "grid_two = ndi.imread('grid_two.png', mode=colormode)\n",
    "grid_three = ndi.imread('grid_three.png', mode=colormode)\n",
    "grid_four = ndi.imread('grid_four.png', mode=colormode)\n",
    "grid_five = ndi.imread('grid_five.png', mode=colormode)\n",
    "grid_six = ndi.imread('grid_six.png', mode=colormode)\n",
    "grid_seven = ndi.imread('grid_seven.png', mode=colormode)\n",
    "flag = ndi.imread('flag.png', mode=colormode)\n",
    "smiley_face = ndi.imread('smiley_face.png', mode=colormode)\n",
    "frowny_face = ndi.imread('frowny_face.png', mode=colormode)\n",
    "glasses_face = ndi.imread('glasses_face.png', mode=colormode)\n",
    "difficulty_level = 3"
   ]
  },
  {
   "cell_type": "code",
   "execution_count": 4,
   "metadata": {
    "collapsed": false
   },
   "outputs": [],
   "source": [
    "#There are three difficulty settings for minesweeper; beginner, intermediate, or expert.\n",
    "#The board changes based on the difficulty level. Here we set global constants to account \n",
    "#for that.\n",
    "if difficulty_level == 1:\n",
    "    x_left = -275\n",
    "    x_right = 335\n",
    "    y_top = -85\n",
    "    y_bot = 690\n",
    "    grid_rows = 9\n",
    "    grid_cols = 9\n",
    "    mine_total = 10\n",
    "elif difficulty_level == 2:\n",
    "    x_left = -490\n",
    "    x_right = 545\n",
    "    y_top = -85\n",
    "    y_bot = 1100\n",
    "    grid_rows = 16\n",
    "    grid_cols = 16\n",
    "    mine_total = 40\n",
    "elif difficulty_level == 3:\n",
    "    x_left = -900\n",
    "    x_right = 955\n",
    "    y_top = -85\n",
    "    y_bot = 1100\n",
    "    grid_rows = 16\n",
    "    grid_cols = 30\n",
    "    mine_total = 99"
   ]
  },
  {
   "cell_type": "code",
   "execution_count": 5,
   "metadata": {
    "collapsed": true
   },
   "outputs": [],
   "source": [
    "#just a basic euclidean distance calculator\n",
    "def dist((x1,y1),(x2,y2)):\n",
    "    return math.sqrt((x2-x1)**2 + (y2-y1)**2)"
   ]
  },
  {
   "cell_type": "code",
   "execution_count": null,
   "metadata": {
    "collapsed": true
   },
   "outputs": [],
   "source": [
    "def finalize_grid_locations():\n",
    "    #grabs an image of the entire screen\n",
    "    fullscreen = ImageGrab.grab().convert(colormode)# X1,Y1,X2,Y2\n",
    "    global fs\n",
    "    fs = np.array(fullscreen)\n",
    "    \n",
    "    #finds the board by locating the smiley face button at the top of the board\n",
    "    simil_mat = cv2.matchTemplate(fs, smiley_face, cv2.TM_CCOEFF_NORMED)\n",
    "    thing = cv2.minMaxLoc(simil_mat)\n",
    "    max_loc = thing[3]\n",
    "    mouseclick(max_loc[0]/2 - 10, max_loc[1]/2)\n",
    "    \n",
    "    #Finds the location of each individual grid square on the board\n",
    "    mines = ImageGrab.grab(bbox = (max_loc[0] + x_left, max_loc[1] + y_top, max_loc[0] + x_right, max_loc[1] + y_bot)).convert(colormode)  # X1,Y1,X2,Y2\n",
    "    mines = np.array(mines)\n",
    "    mysteries = cv2.matchTemplate(mines, mystery, cv2.TM_CCOEFF_NORMED)\n",
    "    grid_locations = remove_close_points(find_candidate_locations(mysteries), mysteries)\n",
    "    return max_loc, grid_locations"
   ]
  },
  {
   "cell_type": "code",
   "execution_count": 6,
   "metadata": {
    "collapsed": true
   },
   "outputs": [],
   "source": [
    "def find_candidate_locations(similarity_matrix):\n",
    "    #finds possible locations of grid squares\n",
    "    candidate_spots = []\n",
    "    thing = np.where(similarity_matrix > .95)\n",
    "    return zip(thing[0], thing[1])"
   ]
  },
  {
   "cell_type": "code",
   "execution_count": 7,
   "metadata": {
    "collapsed": true
   },
   "outputs": [],
   "source": [
    "def remove_close_points(spots, similarity_matrix, threshold = 5):\n",
    "    #This function eliminates candidate squares that are too close together. It consistently leaves us with\n",
    "    #exactly the number of squares we desire.\n",
    "    spotscopy = deepcopy(spots)\n",
    "    for i in range(len(spotscopy)):\n",
    "        for j in range(len(spotscopy)):\n",
    "            a = spotscopy[i]\n",
    "            b = spotscopy[j]\n",
    "            if dist(a,b) < threshold and j > i:\n",
    "                if similarity_matrix[a[0]][a[1]] > similarity_matrix[b[0]][b[1]] and b in spots:\n",
    "                    spots.remove(b)\n",
    "                elif similarity_matrix[a[0]][a[1]] <= similarity_matrix[b[0]][b[1]] and a in spots:\n",
    "                    spots.remove(a)\n",
    "    return spots"
   ]
  },
  {
   "cell_type": "code",
   "execution_count": null,
   "metadata": {
    "collapsed": true
   },
   "outputs": [],
   "source": []
  },
  {
   "cell_type": "code",
   "execution_count": 7,
   "metadata": {
    "collapsed": false
   },
   "outputs": [],
   "source": [
    "from Quartz.CoreGraphics import CGEventCreateMouseEvent\n",
    "from Quartz.CoreGraphics import CGEventPost\n",
    "from Quartz.CoreGraphics import kCGEventMouseMoved\n",
    "from Quartz.CoreGraphics import kCGEventLeftMouseDown\n",
    "from Quartz.CoreGraphics import kCGEventLeftMouseDown\n",
    "from Quartz.CoreGraphics import kCGEventLeftMouseUp\n",
    "from Quartz.CoreGraphics import kCGMouseButtonLeft\n",
    "from Quartz.CoreGraphics import kCGHIDEventTap\n",
    "from Quartz.CoreGraphics import kCGEventRightMouseDown\n",
    "from Quartz.CoreGraphics import kCGEventRightMouseUp\n",
    "#The bot needs to click on the board. These functions enable that.\n",
    "\n",
    "def mouseEvent(type, posx, posy):\n",
    "        theEvent = CGEventCreateMouseEvent(\n",
    "                    None, \n",
    "                    type, \n",
    "                    (posx,posy), \n",
    "                    kCGMouseButtonLeft)\n",
    "        CGEventPost(kCGHIDEventTap, theEvent)\n",
    "\n",
    "def mousemove(posx,posy):\n",
    "        mouseEvent(kCGEventMouseMoved, posx,posy);\n",
    "\n",
    "def mouseclick(posx,posy):\n",
    "        # uncomment this line if you want to force the mouse \n",
    "        # to MOVE to the click location first (I found it was not necessary).\n",
    "        #mouseEvent(kCGEventMouseMoved, posx,posy);\n",
    "        mouseEvent(kCGEventLeftMouseDown, posx,posy);\n",
    "        mouseEvent(kCGEventLeftMouseUp, posx,posy);\n",
    "\n",
    "def rightmouseclick(posx,posy):\n",
    "        mouseEvent(kCGEventRightMouseDown, posx,posy);\n",
    "        mouseEvent(kCGEventRightMouseUp, posx,posy);"
   ]
  },
  {
   "cell_type": "code",
   "execution_count": 10,
   "metadata": {
    "collapsed": false
   },
   "outputs": [],
   "source": [
    "def generate_grid(picture):\n",
    "    #This function updates the grid based on screenshots taken of the minesweeper board\n",
    "    temp_grid = deepcopy(grid)\n",
    "    mystery_squares = np.where(temp_grid == -1)\n",
    "    mystery_squares = zip(mystery_squares[0], mystery_squares[1])\n",
    "    \n",
    "    #Create similarity matrices for each possible state a grid square might be in\n",
    "    ones = cv2.matchTemplate(picture, grid_one, cv2.TM_CCOEFF_NORMED)\n",
    "    twos = cv2.matchTemplate(picture, grid_two, cv2.TM_CCOEFF_NORMED)\n",
    "    threes = cv2.matchTemplate(picture, grid_three, cv2.TM_CCOEFF_NORMED)\n",
    "    fours = cv2.matchTemplate(picture, grid_four, cv2.TM_CCOEFF_NORMED)\n",
    "    fives = cv2.matchTemplate(picture, grid_five, cv2.TM_CCOEFF_NORMED)\n",
    "    sixes = cv2.matchTemplate(picture, grid_six, cv2.TM_CCOEFF_NORMED)\n",
    "    sevens = cv2.matchTemplate(picture, grid_seven, cv2.TM_CCOEFF_NORMED)\n",
    "    empties = cv2.matchTemplate(picture, empty, cv2.TM_CCOEFF_NORMED)\n",
    "    mysteries = cv2.matchTemplate(picture, mystery, cv2.TM_CCOEFF_NORMED)\n",
    "    \n",
    "    #different states for the smiley face at the top of the board\n",
    "    smileys = cv2.matchTemplate(picture, smiley_face, cv2.TM_CCOEFF_NORMED)\n",
    "    frownys = cv2.matchTemplate(picture, frowny_face, cv2.TM_CCOEFF_NORMED)\n",
    "    glassys = cv2.matchTemplate(picture, glasses_face, cv2.TM_CCOEFF_NORMED)\n",
    "\n",
    "    \n",
    "    adj_x = 4\n",
    "    adj_y = 4\n",
    "    smiley_max = cv2.minMaxLoc(smileys)[1]\n",
    "    frowny_max = cv2.minMaxLoc(frownys)[1]\n",
    "    glasses_max = cv2.minMaxLoc(glassys)[1]\n",
    "    winorlose = np.argmax([smiley_max,frowny_max,glasses_max])\n",
    "    if winorlose > 0:\n",
    "        return []\n",
    "    #if gridss[max_loc[1] + y_top, max_loc[0] + x_left] < .5:\n",
    "        #return []\n",
    "        \n",
    "    #print 'I finished making a grid'\n",
    "    #there is a clear path to rid ourselves of this for loop. Implement later.\n",
    "    #I am looking back and have no idea how to rid myself of this for loop.\n",
    "    for coords in mystery_squares:\n",
    "        loc = grid_coord_dict[coords]\n",
    "        one_sim = ones[loc[0] + adj_x, loc[1] + adj_y]\n",
    "        two_sim = twos[loc[0] + adj_x, loc[1] + adj_y]\n",
    "        three_sim = threes[loc[0] + adj_x, loc[1] + adj_y]\n",
    "        four_sim = fours[loc[0] + adj_x, loc[1] + adj_y]\n",
    "        five_sim = fives[loc[0] + adj_x, loc[1] + adj_y]\n",
    "        six_sim = sixes[loc[0] + adj_x, loc[1] + adj_y]\n",
    "        seven_sim = sevens[loc[0] + adj_x, loc[1] + adj_y]\n",
    "        empty_sim = empties[loc[0] + adj_x, loc[1] + adj_y]\n",
    "        mystery_sim = mysteries[loc[0], loc[1]]\n",
    "        #flag_sim = flags[loc[0], loc[1]]\n",
    "        ind = np.argmax([empty_sim, one_sim, two_sim, three_sim, four_sim, five_sim, six_sim, seven_sim, mystery_sim])\n",
    "        if ind == 8:\n",
    "            idx = -1\n",
    "        else:\n",
    "            idx = ind\n",
    "        #print my_grid\n",
    "        #print coords\n",
    "        temp_grid[coords[0], coords[1]] = idx\n",
    "    #print 'finished making a grid!'\n",
    "    return temp_grid"
   ]
  },
  {
   "cell_type": "code",
   "execution_count": 11,
   "metadata": {
    "collapsed": true
   },
   "outputs": [],
   "source": []
  },
  {
   "cell_type": "code",
   "execution_count": 12,
   "metadata": {
    "collapsed": true
   },
   "outputs": [],
   "source": [
    "def click_on_square(coords):\n",
    "    click_target_x = (max_loc[0] + x_left + grid_coord_dict[coords][1])/2 + 15\n",
    "    click_target_y= (max_loc[1] + y_top + grid_coord_dict[coords][0])/2 + 15\n",
    "    mouseclick(max_loc[0]/2 -10, max_loc[1]/2)\n",
    "    mouseclick(click_target_x, click_target_y)"
   ]
  },
  {
   "cell_type": "code",
   "execution_count": 13,
   "metadata": {
    "collapsed": false
   },
   "outputs": [],
   "source": [
    "def right_click_on_square(coords):\n",
    "#     if grid[coords[0],coords[1]] != -1:\n",
    "#         print grid[coords[0],coords[1]]\n",
    "    if coords in set_of_clicks:\n",
    "        print 'I messed up'\n",
    "    set_of_clicks.add(coords)\n",
    "    grid[coords[0],coords[1]] = -3\n",
    "    click_target_x = (max_loc[0] + x_left + grid_coord_dict[coords][1])/2 + 15\n",
    "    click_target_y= (max_loc[1] + y_top + grid_coord_dict[coords][0])/2 + 15\n",
    "    mouseclick(max_loc[0]/2 -10, max_loc[1]/2)\n",
    "    rightmouseclick(click_target_x,click_target_y)\n",
    "    #rightmouseclick(click_target_x,click_target_y)"
   ]
  },
  {
   "cell_type": "code",
   "execution_count": 14,
   "metadata": {
    "collapsed": false
   },
   "outputs": [],
   "source": [
    "def check_adjacent_list(coords_1, coords_list):\n",
    "    for coord in coords_list:\n",
    "        if check_adjacent(coords_1, coord):\n",
    "            return True\n",
    "    return False"
   ]
  },
  {
   "cell_type": "code",
   "execution_count": 15,
   "metadata": {
    "collapsed": true
   },
   "outputs": [],
   "source": [
    "def check_adjacent(coords_1, coords_2):\n",
    "    x1 = coords_1[0]\n",
    "    x2 = coords_2[0]\n",
    "    y1 = coords_1[1]\n",
    "    y2 = coords_2[1]\n",
    "    if abs(x1 - x2) <= 2 and abs(y1 - y2) <= 2:\n",
    "        adj_1 = get_adjacent(grid, coords_1)\n",
    "        adj_2 = get_adjacent(grid, coords_2)\n",
    "        num_coords_1 = np.where(adj_1.reshape((3,3)) > 0)\n",
    "        num_coords_1 = zip(map(lambda x: x - 1 + x1, num_coords_1[0]), map(lambda y: y - 1 + y1, num_coords_1[1]))\n",
    "        num_coords_2 = np.where(adj_2.reshape((3,3)) > 0)\n",
    "        num_coords_2 = zip(map(lambda x: x - 1 + x2, num_coords_2[0]), map(lambda y: y - 1 + y2, num_coords_2[1]))\n",
    "        if len(set.intersection(set(num_coords_1), set(num_coords_2))) > 0:\n",
    "            return True\n",
    "        else:\n",
    "            return False\n",
    "    else:\n",
    "        return False"
   ]
  },
  {
   "cell_type": "code",
   "execution_count": 16,
   "metadata": {
    "collapsed": false
   },
   "outputs": [],
   "source": [
    "def get_border_mysteries():\n",
    "    border_squares = []\n",
    "    mystery_squares = np.where(grid == -1)\n",
    "    mystery_squares = zip(mystery_squares[0], mystery_squares[1])\n",
    "    big_list = []\n",
    "    mines_left = mine_total - len(np.where(grid == -3)[0])\n",
    "    \n",
    "    for coords in mystery_squares:\n",
    "        adjacents = get_adjacent(grid, coords)\n",
    "         #print coords\n",
    "        if sum(np.in1d(adjacents, np.arange(1,9))) > 0:\n",
    "             border_squares.append(coords) \n",
    "    if mines_left < 10:\n",
    "        print 'LESS THAN 10 MINES'\n",
    "        return [border_squares]\n",
    "    #print 'border_squares'\n",
    "    #print border_squares \n",
    "    while len(border_squares) > 0:\n",
    "        start_square = border_squares.pop(0)\n",
    "        finding_stuff = True\n",
    "        start_list = [start_square]\n",
    "        while finding_stuff:\n",
    "            i = 0\n",
    "            finding_stuff = False\n",
    "            while i < len(border_squares):\n",
    "                sqr = border_squares[i]\n",
    "                if check_adjacent_list(sqr, start_list):\n",
    "                    start_list.append(border_squares.pop(i))\n",
    "                    finding_stuff = True\n",
    "                else:\n",
    "                    i += 1\n",
    "        big_list.append(start_list)\n",
    "    return big_list"
   ]
  },
  {
   "cell_type": "code",
   "execution_count": 17,
   "metadata": {
    "collapsed": true
   },
   "outputs": [],
   "source": [
    "def get_adjacent(my_grid, coords):\n",
    "    i = coords[0] + 1\n",
    "    j = coords[1] + 1\n",
    "    temp_grid = np.multiply(np.ones((my_grid.shape[0] + 2, my_grid.shape[1] + 2)),-10)\n",
    "    #print temp_grid.shape\n",
    "    temp_grid[1:my_grid.shape[0] + 1, 1:my_grid.shape[1] + 1] = deepcopy(my_grid)\n",
    "    adj = np.concatenate((temp_grid[i-1][j-1:j+2],temp_grid[i][j-1:j+2],temp_grid[i+1][j-1:j+2]))\n",
    "    return adj"
   ]
  },
  {
   "cell_type": "code",
   "execution_count": 18,
   "metadata": {
    "collapsed": true
   },
   "outputs": [],
   "source": [
    "import sys"
   ]
  },
  {
   "cell_type": "code",
   "execution_count": 19,
   "metadata": {
    "collapsed": true
   },
   "outputs": [],
   "source": [
    "sys.setrecursionlimit(1500)"
   ]
  },
  {
   "cell_type": "code",
   "execution_count": 20,
   "metadata": {
    "collapsed": true
   },
   "outputs": [],
   "source": [
    "def backtracker(lists, border_squares):\n",
    "    list_of_lists = []\n",
    "    found_a_branch = False\n",
    "#     print 'first'\n",
    "#     print len(lists)\n",
    "    if len(lists) == 0:\n",
    "        #print \"I'm here\"\n",
    "        #-2 means open, -4 means mine.\n",
    "        lis_one = np.array([-2])\n",
    "        lis_two = np.array([-4])\n",
    "        if check_valid(lis_one, border_squares):\n",
    "                list_of_lists.append(lis_one)\n",
    "        if check_valid(lis_two, border_squares):\n",
    "                list_of_lists.append(lis_two)  \n",
    "    else:\n",
    "#         print '2nd'\n",
    "#         print len(lists[0])\n",
    "        for arr in lists:\n",
    "            lis_one = np.append(arr,-2)\n",
    "            lis_two = np.append(arr,-4)\n",
    "            if check_valid(lis_one, border_squares):\n",
    "                list_of_lists.append(lis_one)\n",
    "            if check_valid(lis_two, border_squares):\n",
    "                list_of_lists.append(lis_two) \n",
    "    #print found_a_branch\n",
    "#     print 'lenlistone'\n",
    "#     print len(lis_one)\n",
    "#     print 'lenlisttwo'\n",
    "#     print len(lis_two)\n",
    "#     print 'lenbordersqrs'\n",
    "#     print len(border_squares)\n",
    "    if len(lis_one) == len(border_squares) or len(list_of_lists) ==0:\n",
    "        return list_of_lists\n",
    "    else:\n",
    "        return backtracker(list_of_lists, border_squares)     "
   ]
  },
  {
   "cell_type": "code",
   "execution_count": 21,
   "metadata": {
    "collapsed": true
   },
   "outputs": [],
   "source": [
    "def check_valid(arr, border_squares):\n",
    "    temp_grid = deepcopy(grid)\n",
    "    is_valid = True\n",
    "    #if len(arr) != 2:\n",
    "    #print arr\n",
    "    #already_checked = np.zeros(temp_grid.shape)\n",
    "    \n",
    "    mines_left = mine_total - len(np.where(temp_grid <= -3)[0])\n",
    "#     print ''\n",
    "#     print 'mines'\n",
    "#     print mines_left\n",
    "    for i in range(len(arr)):\n",
    "        temp_grid[border_squares[i]] = arr[i]\n",
    "    #for j in range(len(arr)):\n",
    "    coords = border_squares[len(arr) - 1]\n",
    "    adjs = get_adjacent(temp_grid, coords)\n",
    "    num_locs = np.where(adjs.reshape((3,3)) > 0)\n",
    "    num_coords = zip(map(lambda x: x - 1 + coords[0],num_locs[0]), map(lambda y: y - 1 + coords[1], num_locs[1]))\n",
    "    for coords_2 in num_coords:\n",
    "        adjs_2 = get_adjacent(temp_grid, coords_2)\n",
    "        bomb_count = sum(adjs_2 == -3) + sum(adjs_2 == -4)\n",
    "        hypo_bomb_count = sum(adjs_2 == -4)\n",
    "        mystery_count = sum(adjs_2 == -1)\n",
    "        if bomb_count > adjs_2[4]:\n",
    "            #print 'bomb high'\n",
    "            is_valid = False\n",
    "            return is_valid\n",
    "        if bomb_count < adjs_2[4] and mystery_count == 0:\n",
    "            #print 'bomb low'\n",
    "            is_valid = False\n",
    "            return is_valid\n",
    "        if hypo_bomb_count > mines_left:\n",
    "            is_valid = False\n",
    "            return is_valid\n",
    "    return is_valid"
   ]
  },
  {
   "cell_type": "code",
   "execution_count": 22,
   "metadata": {
    "collapsed": true
   },
   "outputs": [],
   "source": [
    "def check_for_commonalities(mine_list, border_squares):\n",
    "    #print mine_list\n",
    "    mine_list_rot = zip(*mine_list)\n",
    "    did_something = False\n",
    "    prob_list = []\n",
    "    #print mine_list_rot\n",
    "    for i in range(len(mine_list_rot)):\n",
    "        possibilities = list(mine_list_rot[i])\n",
    "        #print type(possibilities)\n",
    "        #print possibilities\n",
    "        if len(set(possibilities)) == 1 and list(set(possibilities))[0] == -4:\n",
    "            right_click_on_square(border_squares[i])\n",
    "            did_something = True\n",
    "        if len(set(possibilities)) == 1 and list(set(possibilities))[0] == -2:\n",
    "            click_on_square(border_squares[i])\n",
    "            did_something = True\n",
    "#         else:\n",
    "#             prob_list.append(sum(mine_list_rot[i] == -4)/float(len(mine_list_rot[i])))\n",
    "            \n",
    "    return did_something#, prob_list"
   ]
  },
  {
   "cell_type": "code",
   "execution_count": 23,
   "metadata": {
    "collapsed": true
   },
   "outputs": [],
   "source": [
    "def choose_a_rando(mine_list, border_squares):\n",
    "    #print mine_list\n",
    "    mine_list_rot = zip(*mine_list)\n",
    "#     print 'mine_list_rot'\n",
    "#     print len(mine_list_rot)\n",
    "#     print 'border squares'\n",
    "#     print len(border_squares)\n",
    "    did_something = False\n",
    "    prob_list = []\n",
    "    mine_list_probs = []\n",
    "    for possibilities in mine_list_rot:\n",
    "        mine_list_probs.append(sum(np.array(possibilities) == -4))\n",
    "    square_to_click = np.argmin(mine_list_probs)\n",
    "    click_on_square(border_squares[square_to_click])"
   ]
  },
  {
   "cell_type": "code",
   "execution_count": 24,
   "metadata": {
    "collapsed": false
   },
   "outputs": [],
   "source": [
    "v = [1,2,3]"
   ]
  },
  {
   "cell_type": "code",
   "execution_count": 25,
   "metadata": {
    "collapsed": false
   },
   "outputs": [
    {
     "data": {
      "text/plain": [
       "2"
      ]
     },
     "execution_count": 25,
     "metadata": {},
     "output_type": "execute_result"
    }
   ],
   "source": [
    "np.argmax(v)"
   ]
  },
  {
   "cell_type": "code",
   "execution_count": 26,
   "metadata": {
    "collapsed": false
   },
   "outputs": [],
   "source": [
    "def brute_force_algorithm():\n",
    "    #border_squares = []\n",
    "    border_squares = get_border_mysteries()\n",
    "    #sleep(.5)    \n",
    "#     print 'bordersquares'\n",
    "#     print border_squares\n",
    "    something_done = False\n",
    "    thing = False\n",
    "    #big_prob_list = []\n",
    "    #print len(border_squares)\n",
    "    if len(border_squares) > 0:\n",
    "        for border_cluster in border_squares:\n",
    "            mine_list = backtracker([], border_cluster)\n",
    "            thing = check_for_commonalities(mine_list, border_cluster)\n",
    "            if thing:\n",
    "                something_done = True\n",
    "        if something_done:\n",
    "            pass\n",
    "            #print 'i did someting'\n",
    "        else:\n",
    "            #print 'something was not done!'\n",
    "            flat_border_squares = sum(border_squares, [])\n",
    "            mine_list = backtracker([], flat_border_squares)\n",
    "            choose_a_rando(mine_list, flat_border_squares)\n",
    "    else:\n",
    "        print 'first move only'\n",
    "#         print grid\n",
    "        mystery_squares = np.where(grid == -1)\n",
    "        #print mystery_squares\n",
    "        mystery_squares = zip(mystery_squares[0], mystery_squares[1])\n",
    "        n = random.randint(0, len(mystery_squares) - 1)\n",
    "        click_on_square(mystery_squares[n])\n",
    "        something_done = True\n",
    "    \n",
    "    return True"
   ]
  },
  {
   "cell_type": "code",
   "execution_count": 27,
   "metadata": {
    "collapsed": false
   },
   "outputs": [],
   "source": [
    "def play_minesweeper():\n",
    "#     subprocess.call(\n",
    "#     [\"/usr/bin/open\", \"-n\", \"-a\", \"/Applications/Minesweeper Deluxe.app\"]\n",
    "#     )\n",
    "#     sleep(5)\n",
    "    global set_of_clicks\n",
    "    set_of_clicks = set()\n",
    "    global max_loc\n",
    "    #print max_loc\n",
    "    global grid_locations\n",
    "    max_loc, grid_locations = finalize_grid_locations()\n",
    "    #print grid_locations\n",
    "    #create dictionary between locations and coordinates\n",
    "    \n",
    "    global grid_loc_dict\n",
    "    grid_loc_dict = dict()\n",
    "    #print grid_locations\n",
    "    for i in range(len(grid_locations)):\n",
    "        tup = grid_locations[i]\n",
    "        grid_loc_dict[tup] = (i/grid_cols, i % grid_cols)\n",
    "\n",
    "    global grid_coord_dict\n",
    "    grid_coord_dict = dict()\n",
    "    for x in grid_loc_dict.items():\n",
    "        grid_coord_dict[x[1]] = x[0]\n",
    "    global grid\n",
    "    grid = np.negative(np.ones((grid_rows,grid_cols)))\n",
    "    \n",
    "    while(len(grid) > 0):\n",
    "        ble = brute_force_algorithm()\n",
    "        sleep(.1)\n",
    "        mines2 = ImageGrab.grab(bbox = (max_loc[0] + x_left, max_loc[1] + y_top, max_loc[0] + x_right, max_loc[1] + y_bot)).convert(colormode)  # X1,Y1,X2,Y2\n",
    "        #mines2.show()\n",
    "        mines2 = np.array(mines2)\n",
    "        #global grid\n",
    "        grid = generate_grid(mines2)\n",
    "        #sleep(.5)\n",
    "#         print ''\n",
    "#         print ''\n",
    "#         print grid"
   ]
  },
  {
   "cell_type": "code",
   "execution_count": 33,
   "metadata": {
    "collapsed": false
   },
   "outputs": [
    {
     "name": "stdout",
     "output_type": "stream",
     "text": [
      "first move only\n",
      "LESS THAN 10 MINES\n",
      "LESS THAN 10 MINES\n"
     ]
    }
   ],
   "source": [
    "play_minesweeper()"
   ]
  }
 ],
 "metadata": {
  "anaconda-cloud": {},
  "kernelspec": {
   "display_name": "Python [default]",
   "language": "python",
   "name": "python2"
  },
  "language_info": {
   "codemirror_mode": {
    "name": "ipython",
    "version": 2
   },
   "file_extension": ".py",
   "mimetype": "text/x-python",
   "name": "python",
   "nbconvert_exporter": "python",
   "pygments_lexer": "ipython2",
   "version": "2.7.12"
  }
 },
 "nbformat": 4,
 "nbformat_minor": 1
}
