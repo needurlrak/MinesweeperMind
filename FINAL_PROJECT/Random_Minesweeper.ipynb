{
 "cells": [
  {
   "cell_type": "code",
   "execution_count": 6,
   "metadata": {
    "collapsed": true
   },
   "outputs": [],
   "source": [
    "from skimage import feature\n",
    "from skimage.color import rgb2gray\n",
    "from skimage.transform import resize\n",
    "from skimage.morphology import erosion, dilation, rectangle, square\n",
    "from skimage.measure import find_contours\n",
    "\n",
    "from scipy import ndimage as ndi\n",
    "from scipy.misc import imsave\n",
    "\n",
    "%matplotlib inline\n",
    "\n",
    "import numpy as np\n",
    "import matplotlib as mpl\n",
    "import matplotlib.pyplot as plt\n",
    "import cv2\n",
    "\n",
    "from collections import defaultdict\n",
    "from copy import deepcopy\n",
    "\n",
    "#import pyscreenshot as pysc\n",
    "from PIL import ImageGrab\n",
    "# from PIL import Image\n",
    "\n",
    "import random\n",
    "import math\n",
    "from time import sleep"
   ]
  },
  {
   "cell_type": "code",
   "execution_count": 7,
   "metadata": {
    "collapsed": false
   },
   "outputs": [],
   "source": [
    "colormode = 'L'\n",
    "mystery = ndi.imread('grid_square_mystery.png', mode=colormode)\n",
    "empty = ndi.imread('grid_square_empty.png',  mode=colormode)\n",
    "grid_one = ndi.imread('grid_one.png', mode=colormode)\n",
    "grid_two = ndi.imread('grid_two.png', mode=colormode)\n",
    "grid_three = ndi.imread('grid_three.png', mode=colormode)\n",
    "grid_four = ndi.imread('grid_four.png', mode=colormode)\n",
    "grid_five = ndi.imread('grid_five.png', mode=colormode)\n",
    "#minesweep = ndi.imread('My_shot.png', mode='L')\n",
    "flag = ndi.imread('flag.png', mode=colormode)\n",
    "smiley_face = ndi.imread('smiley_face.png', mode=colormode)\n",
    "frowny_face = ndi.imread('frowny_face.png', mode=colormode)\n",
    "glasses_face = ndi.imread('glasses_face.png', mode=colormode)\n",
    "difficulty_level = 1"
   ]
  },
  {
   "cell_type": "code",
   "execution_count": 8,
   "metadata": {
    "collapsed": true
   },
   "outputs": [],
   "source": [
    "if difficulty_level == 1:\n",
    "    x_left = -275\n",
    "    x_right = 335\n",
    "    y_top = -85\n",
    "    y_bot = 690\n",
    "    grid_rows = 9\n",
    "    grid_cols = 9\n",
    "elif difficulty_level == 2:\n",
    "    x_left = -490\n",
    "    x_right = 545\n",
    "    y_top = -85\n",
    "    y_bot = 1100\n",
    "    grid_rows = 16\n",
    "    grid_cols = 16"
   ]
  },
  {
   "cell_type": "code",
   "execution_count": 9,
   "metadata": {
    "collapsed": true
   },
   "outputs": [],
   "source": [
    "def dist((x1,y1),(x2,y2)):\n",
    "    return math.sqrt((x2-x1)**2 + (y2-y1)**2)"
   ]
  },
  {
   "cell_type": "code",
   "execution_count": 10,
   "metadata": {
    "collapsed": true
   },
   "outputs": [],
   "source": [
    "def remove_close_points(spots, similarity_matrix, threshold = 5):\n",
    "    spotscopy = deepcopy(spots)\n",
    "    for i in range(len(spotscopy)):\n",
    "        for j in range(len(spotscopy)):\n",
    "            a = spotscopy[i]\n",
    "            b = spotscopy[j]\n",
    "            if dist(a,b) < threshold and j > i:\n",
    "                if similarity_matrix[a[0]][a[1]] > similarity_matrix[b[0]][b[1]] and b in spots:\n",
    "                    spots.remove(b)\n",
    "                elif similarity_matrix[a[0]][a[1]] <= similarity_matrix[b[0]][b[1]] and a in spots:\n",
    "                    spots.remove(a)\n",
    "    return spots"
   ]
  },
  {
   "cell_type": "code",
   "execution_count": 11,
   "metadata": {
    "collapsed": true
   },
   "outputs": [],
   "source": [
    "def find_candidate_locations(similarity_matrix):\n",
    "    candidate_spots = []\n",
    "    thing = np.where(similarity_matrix > .95)\n",
    "#     for n in range(len(similarity_matrix)):\n",
    "#         for m in range(len(similarity_matrix[n])):\n",
    "#             if similarity_matrix[n][m] > .95:\n",
    "#                 candidate_spots.append((n,m))\n",
    "    return zip(thing[0], thing[1])\n",
    "#     final_spots = remove_close_points(candidate_spots, similarity_matrix)\n",
    "#     return final_spots"
   ]
  },
  {
   "cell_type": "code",
   "execution_count": 12,
   "metadata": {
    "collapsed": false
   },
   "outputs": [],
   "source": [
    "from Quartz.CoreGraphics import CGEventCreateMouseEvent\n",
    "from Quartz.CoreGraphics import CGEventPost\n",
    "from Quartz.CoreGraphics import kCGEventMouseMoved\n",
    "from Quartz.CoreGraphics import kCGEventLeftMouseDown\n",
    "from Quartz.CoreGraphics import kCGEventLeftMouseDown\n",
    "from Quartz.CoreGraphics import kCGEventLeftMouseUp\n",
    "from Quartz.CoreGraphics import kCGMouseButtonLeft\n",
    "from Quartz.CoreGraphics import kCGHIDEventTap\n",
    "from Quartz.CoreGraphics import kCGEventRightMouseDown\n",
    "from Quartz.CoreGraphics import kCGEventRightMouseUp\n",
    "\n",
    "def mouseEvent(type, posx, posy):\n",
    "        theEvent = CGEventCreateMouseEvent(\n",
    "                    None, \n",
    "                    type, \n",
    "                    (posx,posy), \n",
    "                    kCGMouseButtonLeft)\n",
    "        CGEventPost(kCGHIDEventTap, theEvent)\n",
    "\n",
    "def mousemove(posx,posy):\n",
    "        mouseEvent(kCGEventMouseMoved, posx,posy);\n",
    "\n",
    "def mouseclick(posx,posy):\n",
    "        # uncomment this line if you want to force the mouse \n",
    "        # to MOVE to the click location first (I found it was not necessary).\n",
    "        #mouseEvent(kCGEventMouseMoved, posx,posy);\n",
    "        mouseEvent(kCGEventLeftMouseDown, posx,posy);\n",
    "        mouseEvent(kCGEventLeftMouseUp, posx,posy);\n",
    "\n",
    "def rightmouseclick(posx,posy):\n",
    "        mouseEvent(kCGEventRightMouseDown, posx,posy);\n",
    "        mouseEvent(kCGEventRightMouseUp, posx,posy);"
   ]
  },
  {
   "cell_type": "code",
   "execution_count": 13,
   "metadata": {
    "collapsed": false
   },
   "outputs": [],
   "source": [
    "#mouseclick(max_loc[0]/2 + 100, max_loc[1]/2 + 50)"
   ]
  },
  {
   "cell_type": "code",
   "execution_count": 14,
   "metadata": {
    "collapsed": true
   },
   "outputs": [],
   "source": [
    "#rightmouseclick(980,500)"
   ]
  },
  {
   "cell_type": "code",
   "execution_count": 15,
   "metadata": {
    "collapsed": false
   },
   "outputs": [],
   "source": [
    "def generate_grid(picture):\n",
    "    my_grid = np.zeros((grid_rows,grid_cols))\n",
    "    #gridss = cv2.matchTemplate(fs, picture, cv2.TM_CCOEFF_NORMED)\n",
    "    ones = cv2.matchTemplate(picture, grid_one, cv2.TM_CCOEFF_NORMED)\n",
    "    twos = cv2.matchTemplate(picture, grid_two, cv2.TM_CCOEFF_NORMED)\n",
    "    threes = cv2.matchTemplate(picture, grid_three, cv2.TM_CCOEFF_NORMED)\n",
    "    fours = cv2.matchTemplate(picture, grid_four, cv2.TM_CCOEFF_NORMED)\n",
    "    fives = cv2.matchTemplate(picture, grid_five, cv2.TM_CCOEFF_NORMED)\n",
    "    empties = cv2.matchTemplate(picture, empty, cv2.TM_CCOEFF_NORMED)\n",
    "    mysteries = cv2.matchTemplate(picture, mystery, cv2.TM_CCOEFF_NORMED)\n",
    "    flags = cv2.matchTemplate(picture, flag, cv2.TM_CCOEFF_NORMED)\n",
    "    smileys = cv2.matchTemplate(picture, smiley_face, cv2.TM_CCOEFF_NORMED)\n",
    "    frownys = cv2.matchTemplate(picture, frowny_face, cv2.TM_CCOEFF_NORMED)\n",
    "    glassys = cv2.matchTemplate(picture, glasses_face, cv2.TM_CCOEFF_NORMED)\n",
    "\n",
    "    adj_x = 4\n",
    "    adj_y = 4\n",
    "    smiley_max = cv2.minMaxLoc(smileys)[1]\n",
    "    frowny_max = cv2.minMaxLoc(frownys)[1]\n",
    "    glasses_max = cv2.minMaxLoc(glassys)[1]\n",
    "    winorlose = np.argmax([smiley_max,frowny_max,glasses_max])\n",
    "    if winorlose > 0:\n",
    "        return []\n",
    "    #if gridss[max_loc[1] + y_top, max_loc[0] + x_left] < .5:\n",
    "        #return []\n",
    "        \n",
    "\n",
    "    #there is a clear path to rid ourselves of this for loop. Implement later.\n",
    "    #I am looking back and have no idea how to rid myself of this for loop.\n",
    "    for loc in grid_locations:\n",
    "        coords = grid_loc_dict[loc]\n",
    "        one_sim = ones[loc[0] + adj_x, loc[1] + adj_y]\n",
    "        two_sim = twos[loc[0] + adj_x, loc[1] + adj_y]\n",
    "        three_sim = threes[loc[0] + adj_x, loc[1] + adj_y]\n",
    "        four_sim = fours[loc[0] + adj_x, loc[1] + adj_y]\n",
    "        five_sim = fives[loc[0] + adj_x, loc[1] + adj_y]\n",
    "        empty_sim = empties[loc[0] + adj_x, loc[1] + adj_y]\n",
    "        mystery_sim = mysteries[loc[0], loc[1]]\n",
    "        flag_sim = flags[loc[0], loc[1]]\n",
    "        ind = np.argmax([empty_sim, one_sim, two_sim, three_sim, four_sim, five_sim, mystery_sim, flag_sim])\n",
    "        if ind == 7:\n",
    "            idx = -3\n",
    "        elif ind == 6:\n",
    "            idx = -1\n",
    "        else:\n",
    "            idx = ind\n",
    "        #print my_grid\n",
    "        #print coords\n",
    "        my_grid[coords[0], coords[1]] = idx\n",
    "    return my_grid"
   ]
  },
  {
   "cell_type": "code",
   "execution_count": 16,
   "metadata": {
    "collapsed": true
   },
   "outputs": [],
   "source": [
    "def finalize_grid_locations():\n",
    "    fullscreen = ImageGrab.grab().convert(colormode)# X1,Y1,X2,Y2\n",
    "    global fs\n",
    "    fs = np.array(fullscreen)\n",
    "    simil_mat = cv2.matchTemplate(fs, smiley_face, cv2.TM_CCOEFF_NORMED)\n",
    "    thing = cv2.minMaxLoc(simil_mat)\n",
    "    max_loc = thing[3]\n",
    "    mines = ImageGrab.grab(bbox = (max_loc[0] + x_left, max_loc[1] + y_top, max_loc[0] + x_right, max_loc[1] + y_bot)).convert(colormode)  # X1,Y1,X2,Y2\n",
    "    #mines.show()\n",
    "    mines = np.array(mines)\n",
    "    mysteries = cv2.matchTemplate(mines, mystery, cv2.TM_CCOEFF_NORMED)\n",
    "    grid_locations = remove_close_points(find_candidate_locations(mysteries), mysteries)\n",
    "    return max_loc, grid_locations"
   ]
  },
  {
   "cell_type": "code",
   "execution_count": 12,
   "metadata": {
    "collapsed": true
   },
   "outputs": [],
   "source": [
    "def click_on_square(coords):\n",
    "    click_target_x = (max_loc[0] + x_left + grid_coord_dict[coords][1])/2 + 15\n",
    "    click_target_y= (max_loc[1] + y_top + grid_coord_dict[coords][0])/2 + 15\n",
    "    mouseclick(max_loc[0]/2 -10, max_loc[1]/2)\n",
    "    mouseclick(click_target_x, click_target_y)"
   ]
  },
  {
   "cell_type": "code",
   "execution_count": 13,
   "metadata": {
    "collapsed": false
   },
   "outputs": [],
   "source": [
    "def right_click_on_square(coords):\n",
    "    if grid[coords[0],coords[1]] != -1:\n",
    "        print grid[coords[0],coords[1]]\n",
    "    click_target_x = (max_loc[0] + x_left + grid_coord_dict[coords][1])/2 + 15\n",
    "    click_target_y= (max_loc[1] + y_top + grid_coord_dict[coords][0])/2 + 15\n",
    "    mouseclick(max_loc[0]/2 -10, max_loc[1]/2)\n",
    "    rightmouseclick(click_target_x,click_target_y)\n",
    "    #rightmouseclick(click_target_x,click_target_y)"
   ]
  },
  {
   "cell_type": "code",
   "execution_count": 14,
   "metadata": {
    "collapsed": false
   },
   "outputs": [],
   "source": [
    "def one_square_think(coords):\n",
    "    did_something = False\n",
    "    flag_count = count_adjacent(coords, -3)\n",
    "    mystery_count = count_adjacent(coords,-1)\n",
    "    if grid[coords] == flag_count and mystery_count > 0:\n",
    "        click_all_adjacent_mysteries(coords)\n",
    "        did_something = True\n",
    "    elif grid[coords] - flag_count == mystery_count and mystery_count > 0:\n",
    "        right_click_all_adjacent_mysteries(coords)\n",
    "        did_something = True\n",
    "    return did_something\n",
    "    \n",
    "    "
   ]
  },
  {
   "cell_type": "code",
   "execution_count": 15,
   "metadata": {
    "collapsed": false
   },
   "outputs": [],
   "source": [
    "def click_all_adjacent_mysteries(coords):\n",
    "    p_clicks = np.where(grid == -1)\n",
    "    p_clicks = zip(p_clicks[0], p_clicks[1])\n",
    "    for x,y in p_clicks:\n",
    "        if x >= coords[0] - 1 and x <= coords[0] + 1 and y >= coords[1] -1 and y <= coords[1] + 1 and coords != (x,y): \n",
    "            click_on_square((x,y))"
   ]
  },
  {
   "cell_type": "code",
   "execution_count": 16,
   "metadata": {
    "collapsed": false
   },
   "outputs": [],
   "source": [
    "def right_click_all_adjacent_mysteries(coords):\n",
    "    p_clicks = np.where(grid == -1)\n",
    "    p_clicks = zip(p_clicks[0], p_clicks[1])\n",
    "    for x,y in p_clicks:\n",
    "        if x >= coords[0] - 1 and x <= coords[0] + 1 and y >= coords[1] -1 and y <= coords[1] + 1 and coords != (x,y): \n",
    "            right_click_on_square((x,y))\n",
    "            grid[(x,y)] = -3"
   ]
  },
  {
   "cell_type": "code",
   "execution_count": 17,
   "metadata": {
    "collapsed": true
   },
   "outputs": [],
   "source": [
    "def count_adjacent(coords, num):\n",
    "    i = coords[0] + 1\n",
    "    j = coords[1] + 1\n",
    "    temp_grid = np.multiply(np.ones((grid.shape[0] + 2, grid.shape[1] + 2)),-10)\n",
    "    temp_grid[1:grid.shape[0] + 1, 1:grid.shape[1] + 1] = deepcopy(grid)\n",
    "    adj = np.concatenate((temp_grid[i+1][j-1:j+2],temp_grid[i][j-1:j+2],temp_grid[i-1][j-1:j+2]))\n",
    "    #print adj\n",
    "    adj = np.delete(adj,4)\n",
    "    return sum(adj == num)"
   ]
  },
  {
   "cell_type": "code",
   "execution_count": 18,
   "metadata": {
    "collapsed": false
   },
   "outputs": [],
   "source": [
    "def naive_algorithm():\n",
    "    did_something = False\n",
    "    for i in range(grid.shape[0]):\n",
    "        for j in range(grid.shape[1]):\n",
    "            coords = (i,j)\n",
    "            if one_square_think(coords) == True:\n",
    "                did_something = True\n",
    "                print 'strategic clicking'\n",
    "            \n",
    "    if not did_something:\n",
    "        print 'im clicking randomly!'\n",
    "        #print grid\n",
    "        mystery_squares = np.where(grid == -1)\n",
    "        #print mystery_squares\n",
    "        mystery_squares = zip(mystery_squares[0], mystery_squares[1])\n",
    "        n = random.randint(0, len(mystery_squares) - 1)\n",
    "        click_on_square(mystery_squares[n])     \n",
    "    return True\n",
    "    "
   ]
  },
  {
   "cell_type": "code",
   "execution_count": 19,
   "metadata": {
    "collapsed": true
   },
   "outputs": [],
   "source": [
    "import subprocess\n",
    "\n"
   ]
  },
  {
   "cell_type": "code",
   "execution_count": 76,
   "metadata": {
    "collapsed": false
   },
   "outputs": [],
   "source": [
    "def play_minesweeper():\n",
    "#     subprocess.call(\n",
    "#     [\"/usr/bin/open\", \"-n\", \"-a\", \"/Applications/Minesweeper Deluxe.app\"]\n",
    "#     )\n",
    "#     sleep(5)\n",
    "    global max_loc\n",
    "    #print max_loc\n",
    "    global grid_locations\n",
    "    max_loc, grid_locations = finalize_grid_locations()\n",
    "    #print grid_locations\n",
    "    #create dictionary between locations and coordinates\n",
    "    \n",
    "    global grid_loc_dict\n",
    "    grid_loc_dict = dict()\n",
    "    for i in range(len(grid_locations)):\n",
    "        tup = grid_locations[i]\n",
    "        grid_loc_dict[tup] = (i/grid_rows, i % grid_rows)\n",
    "\n",
    "    global grid_coord_dict\n",
    "    grid_coord_dict = dict()\n",
    "    for x in grid_loc_dict.items():\n",
    "        grid_coord_dict[x[1]] = x[0]\n",
    "    global grid\n",
    "    grid = np.negative(np.ones((grid_rows,grid_cols)))\n",
    "    \n",
    "    while(len(grid) > 0):\n",
    "        ble = naive_algorithm()\n",
    "        #sleep(.05)\n",
    "        mines2 = ImageGrab.grab(bbox = (max_loc[0] + x_left, max_loc[1] + y_top, max_loc[0] + x_right, max_loc[1] + y_bot)).convert(colormode)  # X1,Y1,X2,Y2\n",
    "        #mines2.show()\n",
    "        mines2 = np.array(mines2)\n",
    "        grid = generate_grid(mines2)\n",
    "        print grid"
   ]
  },
  {
   "cell_type": "code",
   "execution_count": 17,
   "metadata": {
    "collapsed": false
   },
   "outputs": [],
   "source": [
    "max_loc, grid_locations = finalize_grid_locations()\n",
    "    #print grid_locations\n",
    "    #create dictionary between locations and coordinates\n",
    "    \n",
    "global grid_loc_dict\n",
    "grid_loc_dict = dict()\n",
    "for i in range(len(grid_locations)):\n",
    "        tup = grid_locations[i]\n",
    "        grid_loc_dict[tup] = (i/grid_rows, i % grid_rows)\n",
    "    \n",
    "global grid_coord_dict\n",
    "grid_coord_dict = dict()\n",
    "for x in grid_loc_dict.items():\n",
    "    grid_coord_dict[x[1]] = x[0]\n",
    "global grid\n",
    "grid = np.negative(np.ones((grid_rows,grid_cols)))"
   ]
  },
  {
   "cell_type": "code",
   "execution_count": 19,
   "metadata": {
    "collapsed": true
   },
   "outputs": [],
   "source": [
    "mines2 = ImageGrab.grab(bbox = (max_loc[0] + x_left, max_loc[1] + y_top, max_loc[0] + x_right, max_loc[1] + y_bot)).convert(colormode)  # X1,Y1,X2,Y2\n",
    "mines2.show()\n",
    "mines2 = np.array(mines2)\n",
    "grid = generate_grid(mines2)"
   ]
  },
  {
   "cell_type": "code",
   "execution_count": 20,
   "metadata": {
    "collapsed": false
   },
   "outputs": [
    {
     "data": {
      "text/plain": [
       "array([[ 0.,  0.,  0.,  1., -1.,  1.,  0.,  1., -1.],\n",
       "       [ 0.,  0.,  0.,  1.,  1.,  1.,  0.,  1., -1.],\n",
       "       [ 0.,  0.,  0.,  0.,  0.,  0.,  1.,  2., -1.],\n",
       "       [ 1.,  1.,  1.,  1.,  1.,  0.,  1., -1., -1.],\n",
       "       [-1., -1., -1., -1.,  1.,  0.,  1.,  1., -1.],\n",
       "       [-1., -1., -1., -1.,  1.,  0.,  0.,  1., -1.],\n",
       "       [-1., -1., -1., -1.,  2.,  2.,  1.,  1., -1.],\n",
       "       [-1., -1., -1., -1., -1., -1., -1., -1., -1.],\n",
       "       [-1., -1., -1., -1., -1., -1., -1., -1., -1.]])"
      ]
     },
     "execution_count": 20,
     "metadata": {},
     "output_type": "execute_result"
    }
   ],
   "source": [
    "grid"
   ]
  },
  {
   "cell_type": "code",
   "execution_count": 77,
   "metadata": {
    "collapsed": false
   },
   "outputs": [
    {
     "name": "stdout",
     "output_type": "stream",
     "text": [
      "im clicking randomly!\n",
      "[[-1. -1.  1.  0.  1. -1. -1. -1. -1.]\n",
      " [-1. -1.  1.  0.  2. -1. -1. -1. -1.]\n",
      " [-1. -1.  2.  0.  2. -1. -1. -1. -1.]\n",
      " [-1. -1.  1.  0.  1.  2.  2.  1. -1.]\n",
      " [ 1.  1.  1.  0.  0.  0.  0.  1. -1.]\n",
      " [ 0.  0.  0.  0.  1.  1.  1.  1. -1.]\n",
      " [ 0.  0.  0.  0.  1. -1. -1. -1. -1.]\n",
      " [ 0.  0.  0.  0.  1.  1.  2. -1. -1.]\n",
      " [ 0.  0.  0.  0.  0.  0.  1. -1. -1.]]\n",
      "strategic clicking\n",
      "strategic clicking\n",
      "strategic clicking\n",
      "strategic clicking\n",
      "strategic clicking\n",
      "strategic clicking\n",
      "strategic clicking\n",
      "strategic clicking\n",
      "strategic clicking\n",
      "[[-1. -1.  1.  0.  1. -1. -1. -1. -1.]\n",
      " [-1. -1.  1.  0.  2. -3. -1. -1. -1.]\n",
      " [-1. -1.  2.  0.  2. -3. -3.  2.  1.]\n",
      " [-1. -3.  1.  0.  1.  2.  2.  1.  0.]\n",
      " [ 1.  1.  1.  0.  0.  0.  0.  1.  1.]\n",
      " [ 0.  0.  0.  0.  1.  1.  1.  1. -1.]\n",
      " [ 0.  0.  0.  0.  1. -3.  2.  2. -1.]\n",
      " [ 0.  0.  0.  0.  1.  1.  2. -1. -1.]\n",
      " [ 0.  0.  0.  0.  0.  0.  1. -1. -1.]]\n",
      "strategic clicking\n",
      "strategic clicking\n",
      "strategic clicking\n",
      "strategic clicking\n",
      "strategic clicking\n",
      "strategic clicking\n",
      "strategic clicking\n",
      "strategic clicking\n",
      "strategic clicking\n",
      "strategic clicking\n",
      "strategic clicking\n",
      "[[-1. -1.  1.  0.  1.  1.  1. -1. -1.]\n",
      " [-1. -1.  1.  0.  2. -3.  3. -1. -1.]\n",
      " [ 2.  2.  2.  0.  2. -3. -3.  2.  1.]\n",
      " [ 1. -3.  1.  0.  1.  2.  2.  1.  0.]\n",
      " [ 1.  1.  1.  0.  0.  0.  0.  1.  1.]\n",
      " [ 0.  0.  0.  0.  1.  1.  1.  1. -3.]\n",
      " [ 0.  0.  0.  0.  1. -3.  2.  2.  2.]\n",
      " [ 0.  0.  0.  0.  1.  1.  2. -3.  1.]\n",
      " [ 0.  0.  0.  0.  0.  0.  1.  1.  1.]]\n",
      "strategic clicking\n",
      "strategic clicking\n",
      "strategic clicking\n",
      "[[-1. -1.  1.  0.  1.  1.  1.  2. -1.]\n",
      " [-1. -3.  1.  0.  2. -3.  3.  3. -1.]\n",
      " [ 2.  2.  2.  0.  2. -3. -3.  2.  1.]\n",
      " [ 1. -3.  1.  0.  1.  2.  2.  1.  0.]\n",
      " [ 1.  1.  1.  0.  0.  0.  0.  1.  1.]\n",
      " [ 0.  0.  0.  0.  1.  1.  1.  1. -3.]\n",
      " [ 0.  0.  0.  0.  1. -3.  2.  2.  2.]\n",
      " [ 0.  0.  0.  0.  1.  1.  2. -3.  1.]\n",
      " [ 0.  0.  0.  0.  0.  0.  1.  1.  1.]]\n",
      "strategic clicking\n",
      "strategic clicking\n",
      "strategic clicking\n",
      "strategic clicking\n",
      "strategic clicking\n",
      "[]\n"
     ]
    }
   ],
   "source": [
    "play_minesweeper()"
   ]
  },
  {
   "cell_type": "code",
   "execution_count": null,
   "metadata": {
    "collapsed": false
   },
   "outputs": [],
   "source": [
    "i = 1\n",
    "j = 1\n",
    "temp_grid = np.multiply(np.ones((grid.shape[0] + 2, grid.shape[1] + 2)),-2)\n",
    "temp_grid[1:grid.shape[0] + 1, 1:grid.shape[1] + 1] = grid"
   ]
  },
  {
   "cell_type": "code",
   "execution_count": null,
   "metadata": {
    "collapsed": true
   },
   "outputs": [],
   "source": [
    "adj = np.concatenate((temp_grid[i+1][j-1:j+2],temp_grid[i][j-1:j+2],temp_grid[i-1][j-1:j+2]))\n",
    "adj = np.delete(adj,4)"
   ]
  },
  {
   "cell_type": "code",
   "execution_count": null,
   "metadata": {
    "collapsed": false
   },
   "outputs": [],
   "source": [
    "adj"
   ]
  },
  {
   "cell_type": "code",
   "execution_count": null,
   "metadata": {
    "collapsed": false
   },
   "outputs": [],
   "source": [
    "temp_grid"
   ]
  },
  {
   "cell_type": "code",
   "execution_count": null,
   "metadata": {
    "collapsed": false
   },
   "outputs": [],
   "source": [
    "count_adjacent(a, (1,1), 8)\n"
   ]
  },
  {
   "cell_type": "code",
   "execution_count": null,
   "metadata": {
    "collapsed": false
   },
   "outputs": [],
   "source": [
    "np.multiply(temp_grid, -2)"
   ]
  },
  {
   "cell_type": "code",
   "execution_count": 70,
   "metadata": {
    "collapsed": true
   },
   "outputs": [],
   "source": [
    "a =np.array([[3,4,5],[1,2,3],[7,8,9]])"
   ]
  },
  {
   "cell_type": "code",
   "execution_count": 74,
   "metadata": {
    "collapsed": false
   },
   "outputs": [
    {
     "data": {
      "text/plain": [
       "array([[3, 4, 5],\n",
       "       [1, 2, 3],\n",
       "       [7, 8, 9]])"
      ]
     },
     "execution_count": 74,
     "metadata": {},
     "output_type": "execute_result"
    }
   ],
   "source": [
    "a"
   ]
  },
  {
   "cell_type": "code",
   "execution_count": 75,
   "metadata": {
    "collapsed": false
   },
   "outputs": [
    {
     "data": {
      "text/plain": [
       "array([1, 1])"
      ]
     },
     "execution_count": 75,
     "metadata": {},
     "output_type": "execute_result"
    }
   ],
   "source": [
    "a[(1,1),(0,0)]"
   ]
  },
  {
   "cell_type": "code",
   "execution_count": null,
   "metadata": {
    "collapsed": false
   },
   "outputs": [],
   "source": [
    "np.reshape(a,(1,9))"
   ]
  },
  {
   "cell_type": "code",
   "execution_count": null,
   "metadata": {
    "collapsed": false
   },
   "outputs": [],
   "source": [
    "b = np."
   ]
  },
  {
   "cell_type": "code",
   "execution_count": null,
   "metadata": {
    "collapsed": false
   },
   "outputs": [],
   "source": [
    "b = np.ones((a.shape[0] + 2, a.shape[1] + 2))\n",
    "\n",
    "b[1:a.shape[0] + 1, 1:a.shape[1] + 1] = a"
   ]
  },
  {
   "cell_type": "code",
   "execution_count": null,
   "metadata": {
    "collapsed": false
   },
   "outputs": [],
   "source": [
    "b"
   ]
  },
  {
   "cell_type": "code",
   "execution_count": null,
   "metadata": {
    "collapsed": false
   },
   "outputs": [],
   "source": [
    "len(np.where(a == 3))\n"
   ]
  },
  {
   "cell_type": "code",
   "execution_count": null,
   "metadata": {
    "collapsed": false
   },
   "outputs": [],
   "source": [
    "cv2.minMaxLoc(np.array([[1,0],[0,1]]))"
   ]
  },
  {
   "cell_type": "code",
   "execution_count": null,
   "metadata": {
    "collapsed": false
   },
   "outputs": [],
   "source": [
    "thing = np.concatenate((a[0][0:3], a[1][0:3], a[2][0:3]))"
   ]
  },
  {
   "cell_type": "code",
   "execution_count": null,
   "metadata": {
    "collapsed": false
   },
   "outputs": [],
   "source": [
    "np.delete(thing,4)"
   ]
  },
  {
   "cell_type": "code",
   "execution_count": null,
   "metadata": {
    "collapsed": false
   },
   "outputs": [],
   "source": [
    "np.reshape(thing, (3,3))\n"
   ]
  },
  {
   "cell_type": "code",
   "execution_count": null,
   "metadata": {
    "collapsed": false
   },
   "outputs": [],
   "source": [
    "a == 4"
   ]
  },
  {
   "cell_type": "code",
   "execution_count": null,
   "metadata": {
    "collapsed": false
   },
   "outputs": [],
   "source": [
    "a[(0,1)]"
   ]
  },
  {
   "cell_type": "code",
   "execution_count": null,
   "metadata": {
    "collapsed": false
   },
   "outputs": [],
   "source": [
    "def testy(c,d):\n",
    "    global r\n",
    "    r = c\n",
    "    printytesty()\n",
    "    "
   ]
  },
  {
   "cell_type": "code",
   "execution_count": null,
   "metadata": {
    "collapsed": false
   },
   "outputs": [],
   "source": [
    "def printytesty():\n",
    "    print r"
   ]
  },
  {
   "cell_type": "code",
   "execution_count": null,
   "metadata": {
    "collapsed": false
   },
   "outputs": [],
   "source": [
    "testy(1,2)"
   ]
  },
  {
   "cell_type": "code",
   "execution_count": null,
   "metadata": {
    "collapsed": false
   },
   "outputs": [],
   "source": [
    "a"
   ]
  },
  {
   "cell_type": "code",
   "execution_count": 69,
   "metadata": {
    "collapsed": false
   },
   "outputs": [
    {
     "ename": "NameError",
     "evalue": "name 'a' is not defined",
     "output_type": "error",
     "traceback": [
      "\u001b[0;31m---------------------------------------------------------------------------\u001b[0m",
      "\u001b[0;31mNameError\u001b[0m                                 Traceback (most recent call last)",
      "\u001b[0;32m<ipython-input-69-60b725f10c9c>\u001b[0m in \u001b[0;36m<module>\u001b[0;34m()\u001b[0m\n\u001b[0;32m----> 1\u001b[0;31m \u001b[0ma\u001b[0m\u001b[0;34m\u001b[0m\u001b[0m\n\u001b[0m",
      "\u001b[0;31mNameError\u001b[0m: name 'a' is not defined"
     ]
    }
   ],
   "source": [
    "a"
   ]
  },
  {
   "cell_type": "code",
   "execution_count": null,
   "metadata": {
    "collapsed": true
   },
   "outputs": [],
   "source": []
  }
 ],
 "metadata": {
  "anaconda-cloud": {},
  "kernelspec": {
   "display_name": "Python [default]",
   "language": "python",
   "name": "python2"
  },
  "language_info": {
   "codemirror_mode": {
    "name": "ipython",
    "version": 2
   },
   "file_extension": ".py",
   "mimetype": "text/x-python",
   "name": "python",
   "nbconvert_exporter": "python",
   "pygments_lexer": "ipython2",
   "version": "2.7.12"
  }
 },
 "nbformat": 4,
 "nbformat_minor": 1
}
